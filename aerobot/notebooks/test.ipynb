{
 "cells": [
  {
   "cell_type": "code",
   "execution_count": 18,
   "metadata": {},
   "outputs": [
    {
     "name": "stdout",
     "output_type": "stream",
     "text": [
      "Loading data...\n"
     ]
    }
   ],
   "source": [
    "import pandas as pd\n",
    "from aerobot.io import load_training_data, load_validation_data\n",
    "from aerobot.utls import process_data, count_aa_kmers, download_genomes_from_assembly\n",
    "from aerobot.models import LogisticClassifier\n",
    "import seaborn as sns\n",
    "\n",
    "print(\"Loading data...\")\n",
    "\n",
    "#feature_type = \"embedding.genome\"\n",
    "#kmer = 3\n",
    "#feature_type = f\"aa_{kmer}mer\"\n",
    "feature_type = \"nt_5mer\"\n",
    "training_data = load_training_data(feature_type=feature_type)\n",
    "validation_data = load_validation_data(feature_type=feature_type)\n",
    "cleaned_data = process_data(training_data[\"features\"], training_data[\"labels\"][\"physiology\"], validation_data[\"features\"], validation_data[\"labels\"][\"physiology\"])\n",
    "only_cononical_nts = [x for x in cleaned_data[\"column_labels\"] if len(set(x) - set([\"A\",\"C\",\"G\",\"T\"])) == 0]\n",
    "columns_to_keep = [x in only_cononical_nts for x in cleaned_data[\"column_labels\"]]\n",
    "cleaned_data[\"X_train\"] = cleaned_data[\"X_train\"][:,columns_to_keep]\n",
    "cleaned_data[\"X_test\"] = cleaned_data[\"X_test\"][:,columns_to_keep]\n",
    "cleaned_data[\"column_labels\"] = [x for x in cleaned_data[\"column_labels\"] if x in only_cononical_nts]\n"
   ]
  },
  {
   "cell_type": "code",
   "execution_count": 18,
   "metadata": {},
   "outputs": [
    {
     "name": "stdout",
     "output_type": "stream",
     "text": [
      "Loading data...\n"
     ]
    }
   ],
   "source": [
    "import pandas as pd\n",
    "from aerobot.io import load_training_data, load_validation_data\n",
    "from aerobot.utls import process_data, count_aa_kmers, download_genomes_from_assembly\n",
    "from aerobot.models import LogisticClassifier\n",
    "import seaborn as sns\n",
    "\n",
    "print(\"Loading data...\")\n",
    "\n",
    "feature_type = \"nt_4mer\"\n",
    "training_data = load_training_data(feature_type=feature_type)\n",
    "validation_data = load_validation_data(feature_type=feature_type)\n",
    "# convert labels to two classes (change Facultative to Aerobe)\n",
    "#training_data[\"labels\"][\"physiology\"] = training_data[\"labels\"][\"physiology\"].replace(\"Facultative\", \"Aerobe\")\n",
    "#validation_data[\"labels\"][\"physiology\"] = validation_data[\"labels\"][\"physiology\"].replace(\"Facultative\", \"Aerobe\")\n",
    "cleaned_data = process_data(training_data[\"features\"], training_data[\"labels\"][\"physiology\"], validation_data[\"features\"], validation_data[\"labels\"][\"physiology\"])\n"
   ]
  },
  {
   "cell_type": "code",
   "execution_count": 20,
   "metadata": {},
   "outputs": [
    {
     "name": "stdout",
     "output_type": "stream",
     "text": [
      "Fitting model...\n"
     ]
    },
    {
     "name": "stderr",
     "output_type": "stream",
     "text": [
      "/Users/joshuagoldford/opt/miniconda3/envs/aerobot/lib/python3.8/site-packages/sklearn/linear_model/_logistic.py:460: ConvergenceWarning: lbfgs failed to converge (status=1):\n",
      "STOP: TOTAL NO. of f AND g EVALUATIONS EXCEEDS LIMIT.\n",
      "\n",
      "Increase the number of iterations (max_iter) or scale the data as shown in:\n",
      "    https://scikit-learn.org/stable/modules/preprocessing.html\n",
      "Please also refer to the documentation for alternative solver options:\n",
      "    https://scikit-learn.org/stable/modules/linear_model.html#logistic-regression\n",
      "  n_iter_i = _check_optimize_result(\n",
      "/Users/joshuagoldford/opt/miniconda3/envs/aerobot/lib/python3.8/site-packages/sklearn/linear_model/_logistic.py:460: ConvergenceWarning: lbfgs failed to converge (status=1):\n",
      "STOP: TOTAL NO. of f AND g EVALUATIONS EXCEEDS LIMIT.\n",
      "\n",
      "Increase the number of iterations (max_iter) or scale the data as shown in:\n",
      "    https://scikit-learn.org/stable/modules/preprocessing.html\n",
      "Please also refer to the documentation for alternative solver options:\n",
      "    https://scikit-learn.org/stable/modules/linear_model.html#logistic-regression\n",
      "  n_iter_i = _check_optimize_result(\n"
     ]
    },
    {
     "ename": "KeyboardInterrupt",
     "evalue": "",
     "output_type": "error",
     "traceback": [
      "\u001b[0;31m---------------------------------------------------------------------------\u001b[0m",
      "\u001b[0;31mKeyboardInterrupt\u001b[0m                         Traceback (most recent call last)",
      "Cell \u001b[0;32mIn[20], line 3\u001b[0m\n\u001b[1;32m      1\u001b[0m \u001b[39mprint\u001b[39m(\u001b[39m\"\u001b[39m\u001b[39mFitting model...\u001b[39m\u001b[39m\"\u001b[39m)\n\u001b[1;32m      2\u001b[0m model \u001b[39m=\u001b[39m LogisticClassifier(max_iter\u001b[39m=\u001b[39m\u001b[39m100000\u001b[39m,normalize\u001b[39m=\u001b[39m\u001b[39mTrue\u001b[39;00m,random_state\u001b[39m=\u001b[39m\u001b[39mNone\u001b[39;00m)\n\u001b[0;32m----> 3\u001b[0m model\u001b[39m.\u001b[39;49mfit(cleaned_data[\u001b[39m\"\u001b[39;49m\u001b[39mX_train\u001b[39;49m\u001b[39m\"\u001b[39;49m], cleaned_data[\u001b[39m\"\u001b[39;49m\u001b[39my_train\u001b[39;49m\u001b[39m\"\u001b[39;49m])\n\u001b[1;32m      4\u001b[0m accuracy \u001b[39m=\u001b[39m model\u001b[39m.\u001b[39mscore(cleaned_data[\u001b[39m\"\u001b[39m\u001b[39mX_train\u001b[39m\u001b[39m\"\u001b[39m], cleaned_data[\u001b[39m\"\u001b[39m\u001b[39my_train\u001b[39m\u001b[39m\"\u001b[39m])\n\u001b[1;32m      5\u001b[0m \u001b[39m# balanced accuracy\u001b[39;00m\n",
      "File \u001b[0;32m~/Documents/github/aerobot/aerobot/models.py:19\u001b[0m, in \u001b[0;36mLogisticClassifier.fit\u001b[0;34m(self, X, y)\u001b[0m\n\u001b[1;32m     17\u001b[0m \u001b[39mif\u001b[39;00m \u001b[39mself\u001b[39m\u001b[39m.\u001b[39mscaler:\n\u001b[1;32m     18\u001b[0m     X \u001b[39m=\u001b[39m \u001b[39mself\u001b[39m\u001b[39m.\u001b[39mscaler\u001b[39m.\u001b[39mfit_transform(X)\n\u001b[0;32m---> 19\u001b[0m \u001b[39mself\u001b[39;49m\u001b[39m.\u001b[39;49mclassifier\u001b[39m.\u001b[39;49mfit(X, y)\n",
      "File \u001b[0;32m~/opt/miniconda3/envs/aerobot/lib/python3.8/site-packages/sklearn/base.py:1151\u001b[0m, in \u001b[0;36m_fit_context.<locals>.decorator.<locals>.wrapper\u001b[0;34m(estimator, *args, **kwargs)\u001b[0m\n\u001b[1;32m   1144\u001b[0m     estimator\u001b[39m.\u001b[39m_validate_params()\n\u001b[1;32m   1146\u001b[0m \u001b[39mwith\u001b[39;00m config_context(\n\u001b[1;32m   1147\u001b[0m     skip_parameter_validation\u001b[39m=\u001b[39m(\n\u001b[1;32m   1148\u001b[0m         prefer_skip_nested_validation \u001b[39mor\u001b[39;00m global_skip_validation\n\u001b[1;32m   1149\u001b[0m     )\n\u001b[1;32m   1150\u001b[0m ):\n\u001b[0;32m-> 1151\u001b[0m     \u001b[39mreturn\u001b[39;00m fit_method(estimator, \u001b[39m*\u001b[39;49margs, \u001b[39m*\u001b[39;49m\u001b[39m*\u001b[39;49mkwargs)\n",
      "File \u001b[0;32m~/opt/miniconda3/envs/aerobot/lib/python3.8/site-packages/sklearn/linear_model/_logistic.py:1878\u001b[0m, in \u001b[0;36mLogisticRegressionCV.fit\u001b[0;34m(self, X, y, sample_weight)\u001b[0m\n\u001b[1;32m   1875\u001b[0m \u001b[39melse\u001b[39;00m:\n\u001b[1;32m   1876\u001b[0m     prefer \u001b[39m=\u001b[39m \u001b[39m\"\u001b[39m\u001b[39mprocesses\u001b[39m\u001b[39m\"\u001b[39m\n\u001b[0;32m-> 1878\u001b[0m fold_coefs_ \u001b[39m=\u001b[39m Parallel(n_jobs\u001b[39m=\u001b[39;49m\u001b[39mself\u001b[39;49m\u001b[39m.\u001b[39;49mn_jobs, verbose\u001b[39m=\u001b[39;49m\u001b[39mself\u001b[39;49m\u001b[39m.\u001b[39;49mverbose, prefer\u001b[39m=\u001b[39;49mprefer)(\n\u001b[1;32m   1879\u001b[0m     path_func(\n\u001b[1;32m   1880\u001b[0m         X,\n\u001b[1;32m   1881\u001b[0m         y,\n\u001b[1;32m   1882\u001b[0m         train,\n\u001b[1;32m   1883\u001b[0m         test,\n\u001b[1;32m   1884\u001b[0m         pos_class\u001b[39m=\u001b[39;49mlabel,\n\u001b[1;32m   1885\u001b[0m         Cs\u001b[39m=\u001b[39;49m\u001b[39mself\u001b[39;49m\u001b[39m.\u001b[39;49mCs,\n\u001b[1;32m   1886\u001b[0m         fit_intercept\u001b[39m=\u001b[39;49m\u001b[39mself\u001b[39;49m\u001b[39m.\u001b[39;49mfit_intercept,\n\u001b[1;32m   1887\u001b[0m         penalty\u001b[39m=\u001b[39;49m\u001b[39mself\u001b[39;49m\u001b[39m.\u001b[39;49mpenalty,\n\u001b[1;32m   1888\u001b[0m         dual\u001b[39m=\u001b[39;49m\u001b[39mself\u001b[39;49m\u001b[39m.\u001b[39;49mdual,\n\u001b[1;32m   1889\u001b[0m         solver\u001b[39m=\u001b[39;49msolver,\n\u001b[1;32m   1890\u001b[0m         tol\u001b[39m=\u001b[39;49m\u001b[39mself\u001b[39;49m\u001b[39m.\u001b[39;49mtol,\n\u001b[1;32m   1891\u001b[0m         max_iter\u001b[39m=\u001b[39;49m\u001b[39mself\u001b[39;49m\u001b[39m.\u001b[39;49mmax_iter,\n\u001b[1;32m   1892\u001b[0m         verbose\u001b[39m=\u001b[39;49m\u001b[39mself\u001b[39;49m\u001b[39m.\u001b[39;49mverbose,\n\u001b[1;32m   1893\u001b[0m         class_weight\u001b[39m=\u001b[39;49mclass_weight,\n\u001b[1;32m   1894\u001b[0m         scoring\u001b[39m=\u001b[39;49m\u001b[39mself\u001b[39;49m\u001b[39m.\u001b[39;49mscoring,\n\u001b[1;32m   1895\u001b[0m         multi_class\u001b[39m=\u001b[39;49mmulti_class,\n\u001b[1;32m   1896\u001b[0m         intercept_scaling\u001b[39m=\u001b[39;49m\u001b[39mself\u001b[39;49m\u001b[39m.\u001b[39;49mintercept_scaling,\n\u001b[1;32m   1897\u001b[0m         random_state\u001b[39m=\u001b[39;49m\u001b[39mself\u001b[39;49m\u001b[39m.\u001b[39;49mrandom_state,\n\u001b[1;32m   1898\u001b[0m         max_squared_sum\u001b[39m=\u001b[39;49mmax_squared_sum,\n\u001b[1;32m   1899\u001b[0m         sample_weight\u001b[39m=\u001b[39;49msample_weight,\n\u001b[1;32m   1900\u001b[0m         l1_ratio\u001b[39m=\u001b[39;49ml1_ratio,\n\u001b[1;32m   1901\u001b[0m     )\n\u001b[1;32m   1902\u001b[0m     \u001b[39mfor\u001b[39;49;00m label \u001b[39min\u001b[39;49;00m iter_encoded_labels\n\u001b[1;32m   1903\u001b[0m     \u001b[39mfor\u001b[39;49;00m train, test \u001b[39min\u001b[39;49;00m folds\n\u001b[1;32m   1904\u001b[0m     \u001b[39mfor\u001b[39;49;00m l1_ratio \u001b[39min\u001b[39;49;00m l1_ratios_\n\u001b[1;32m   1905\u001b[0m )\n\u001b[1;32m   1907\u001b[0m \u001b[39m# _log_reg_scoring_path will output different shapes depending on the\u001b[39;00m\n\u001b[1;32m   1908\u001b[0m \u001b[39m# multi_class param, so we need to reshape the outputs accordingly.\u001b[39;00m\n\u001b[1;32m   1909\u001b[0m \u001b[39m# Cs is of shape (n_classes . n_folds . n_l1_ratios, n_Cs) and all the\u001b[39;00m\n\u001b[0;32m   (...)\u001b[0m\n\u001b[1;32m   1916\u001b[0m \u001b[39m#  (n_classes, n_folds, n_Cs . n_l1_ratios) or\u001b[39;00m\n\u001b[1;32m   1917\u001b[0m \u001b[39m#  (1, n_folds, n_Cs . n_l1_ratios)\u001b[39;00m\n\u001b[1;32m   1918\u001b[0m coefs_paths, Cs, scores, n_iter_ \u001b[39m=\u001b[39m \u001b[39mzip\u001b[39m(\u001b[39m*\u001b[39mfold_coefs_)\n",
      "File \u001b[0;32m~/opt/miniconda3/envs/aerobot/lib/python3.8/site-packages/sklearn/utils/parallel.py:65\u001b[0m, in \u001b[0;36mParallel.__call__\u001b[0;34m(self, iterable)\u001b[0m\n\u001b[1;32m     60\u001b[0m config \u001b[39m=\u001b[39m get_config()\n\u001b[1;32m     61\u001b[0m iterable_with_config \u001b[39m=\u001b[39m (\n\u001b[1;32m     62\u001b[0m     (_with_config(delayed_func, config), args, kwargs)\n\u001b[1;32m     63\u001b[0m     \u001b[39mfor\u001b[39;00m delayed_func, args, kwargs \u001b[39min\u001b[39;00m iterable\n\u001b[1;32m     64\u001b[0m )\n\u001b[0;32m---> 65\u001b[0m \u001b[39mreturn\u001b[39;00m \u001b[39msuper\u001b[39;49m()\u001b[39m.\u001b[39;49m\u001b[39m__call__\u001b[39;49m(iterable_with_config)\n",
      "File \u001b[0;32m~/opt/miniconda3/envs/aerobot/lib/python3.8/site-packages/joblib/parallel.py:1855\u001b[0m, in \u001b[0;36mParallel.__call__\u001b[0;34m(self, iterable)\u001b[0m\n\u001b[1;32m   1853\u001b[0m     output \u001b[39m=\u001b[39m \u001b[39mself\u001b[39m\u001b[39m.\u001b[39m_get_sequential_output(iterable)\n\u001b[1;32m   1854\u001b[0m     \u001b[39mnext\u001b[39m(output)\n\u001b[0;32m-> 1855\u001b[0m     \u001b[39mreturn\u001b[39;00m output \u001b[39mif\u001b[39;00m \u001b[39mself\u001b[39m\u001b[39m.\u001b[39mreturn_generator \u001b[39melse\u001b[39;00m \u001b[39mlist\u001b[39;49m(output)\n\u001b[1;32m   1857\u001b[0m \u001b[39m# Let's create an ID that uniquely identifies the current call. If the\u001b[39;00m\n\u001b[1;32m   1858\u001b[0m \u001b[39m# call is interrupted early and that the same instance is immediately\u001b[39;00m\n\u001b[1;32m   1859\u001b[0m \u001b[39m# re-used, this id will be used to prevent workers that were\u001b[39;00m\n\u001b[1;32m   1860\u001b[0m \u001b[39m# concurrently finalizing a task from the previous call to run the\u001b[39;00m\n\u001b[1;32m   1861\u001b[0m \u001b[39m# callback.\u001b[39;00m\n\u001b[1;32m   1862\u001b[0m \u001b[39mwith\u001b[39;00m \u001b[39mself\u001b[39m\u001b[39m.\u001b[39m_lock:\n",
      "File \u001b[0;32m~/opt/miniconda3/envs/aerobot/lib/python3.8/site-packages/joblib/parallel.py:1784\u001b[0m, in \u001b[0;36mParallel._get_sequential_output\u001b[0;34m(self, iterable)\u001b[0m\n\u001b[1;32m   1782\u001b[0m \u001b[39mself\u001b[39m\u001b[39m.\u001b[39mn_dispatched_batches \u001b[39m+\u001b[39m\u001b[39m=\u001b[39m \u001b[39m1\u001b[39m\n\u001b[1;32m   1783\u001b[0m \u001b[39mself\u001b[39m\u001b[39m.\u001b[39mn_dispatched_tasks \u001b[39m+\u001b[39m\u001b[39m=\u001b[39m \u001b[39m1\u001b[39m\n\u001b[0;32m-> 1784\u001b[0m res \u001b[39m=\u001b[39m func(\u001b[39m*\u001b[39;49margs, \u001b[39m*\u001b[39;49m\u001b[39m*\u001b[39;49mkwargs)\n\u001b[1;32m   1785\u001b[0m \u001b[39mself\u001b[39m\u001b[39m.\u001b[39mn_completed_tasks \u001b[39m+\u001b[39m\u001b[39m=\u001b[39m \u001b[39m1\u001b[39m\n\u001b[1;32m   1786\u001b[0m \u001b[39mself\u001b[39m\u001b[39m.\u001b[39mprint_progress()\n",
      "File \u001b[0;32m~/opt/miniconda3/envs/aerobot/lib/python3.8/site-packages/sklearn/utils/parallel.py:127\u001b[0m, in \u001b[0;36m_FuncWrapper.__call__\u001b[0;34m(self, *args, **kwargs)\u001b[0m\n\u001b[1;32m    125\u001b[0m     config \u001b[39m=\u001b[39m {}\n\u001b[1;32m    126\u001b[0m \u001b[39mwith\u001b[39;00m config_context(\u001b[39m*\u001b[39m\u001b[39m*\u001b[39mconfig):\n\u001b[0;32m--> 127\u001b[0m     \u001b[39mreturn\u001b[39;00m \u001b[39mself\u001b[39;49m\u001b[39m.\u001b[39;49mfunction(\u001b[39m*\u001b[39;49margs, \u001b[39m*\u001b[39;49m\u001b[39m*\u001b[39;49mkwargs)\n",
      "File \u001b[0;32m~/opt/miniconda3/envs/aerobot/lib/python3.8/site-packages/sklearn/linear_model/_logistic.py:732\u001b[0m, in \u001b[0;36m_log_reg_scoring_path\u001b[0;34m(X, y, train, test, pos_class, Cs, scoring, fit_intercept, max_iter, tol, class_weight, verbose, solver, penalty, dual, intercept_scaling, multi_class, random_state, max_squared_sum, sample_weight, l1_ratio)\u001b[0m\n\u001b[1;32m    729\u001b[0m     sample_weight \u001b[39m=\u001b[39m _check_sample_weight(sample_weight, X)\n\u001b[1;32m    730\u001b[0m     sample_weight \u001b[39m=\u001b[39m sample_weight[train]\n\u001b[0;32m--> 732\u001b[0m coefs, Cs, n_iter \u001b[39m=\u001b[39m _logistic_regression_path(\n\u001b[1;32m    733\u001b[0m     X_train,\n\u001b[1;32m    734\u001b[0m     y_train,\n\u001b[1;32m    735\u001b[0m     Cs\u001b[39m=\u001b[39;49mCs,\n\u001b[1;32m    736\u001b[0m     l1_ratio\u001b[39m=\u001b[39;49ml1_ratio,\n\u001b[1;32m    737\u001b[0m     fit_intercept\u001b[39m=\u001b[39;49mfit_intercept,\n\u001b[1;32m    738\u001b[0m     solver\u001b[39m=\u001b[39;49msolver,\n\u001b[1;32m    739\u001b[0m     max_iter\u001b[39m=\u001b[39;49mmax_iter,\n\u001b[1;32m    740\u001b[0m     class_weight\u001b[39m=\u001b[39;49mclass_weight,\n\u001b[1;32m    741\u001b[0m     pos_class\u001b[39m=\u001b[39;49mpos_class,\n\u001b[1;32m    742\u001b[0m     multi_class\u001b[39m=\u001b[39;49mmulti_class,\n\u001b[1;32m    743\u001b[0m     tol\u001b[39m=\u001b[39;49mtol,\n\u001b[1;32m    744\u001b[0m     verbose\u001b[39m=\u001b[39;49mverbose,\n\u001b[1;32m    745\u001b[0m     dual\u001b[39m=\u001b[39;49mdual,\n\u001b[1;32m    746\u001b[0m     penalty\u001b[39m=\u001b[39;49mpenalty,\n\u001b[1;32m    747\u001b[0m     intercept_scaling\u001b[39m=\u001b[39;49mintercept_scaling,\n\u001b[1;32m    748\u001b[0m     random_state\u001b[39m=\u001b[39;49mrandom_state,\n\u001b[1;32m    749\u001b[0m     check_input\u001b[39m=\u001b[39;49m\u001b[39mFalse\u001b[39;49;00m,\n\u001b[1;32m    750\u001b[0m     max_squared_sum\u001b[39m=\u001b[39;49mmax_squared_sum,\n\u001b[1;32m    751\u001b[0m     sample_weight\u001b[39m=\u001b[39;49msample_weight,\n\u001b[1;32m    752\u001b[0m )\n\u001b[1;32m    754\u001b[0m log_reg \u001b[39m=\u001b[39m LogisticRegression(solver\u001b[39m=\u001b[39msolver, multi_class\u001b[39m=\u001b[39mmulti_class)\n\u001b[1;32m    756\u001b[0m \u001b[39m# The score method of Logistic Regression has a classes_ attribute.\u001b[39;00m\n",
      "File \u001b[0;32m~/opt/miniconda3/envs/aerobot/lib/python3.8/site-packages/sklearn/linear_model/_logistic.py:452\u001b[0m, in \u001b[0;36m_logistic_regression_path\u001b[0;34m(X, y, pos_class, Cs, fit_intercept, max_iter, tol, verbose, solver, coef, class_weight, dual, penalty, intercept_scaling, multi_class, random_state, check_input, max_squared_sum, sample_weight, l1_ratio, n_threads)\u001b[0m\n\u001b[1;32m    448\u001b[0m l2_reg_strength \u001b[39m=\u001b[39m \u001b[39m1.0\u001b[39m \u001b[39m/\u001b[39m C\n\u001b[1;32m    449\u001b[0m iprint \u001b[39m=\u001b[39m [\u001b[39m-\u001b[39m\u001b[39m1\u001b[39m, \u001b[39m50\u001b[39m, \u001b[39m1\u001b[39m, \u001b[39m100\u001b[39m, \u001b[39m101\u001b[39m][\n\u001b[1;32m    450\u001b[0m     np\u001b[39m.\u001b[39msearchsorted(np\u001b[39m.\u001b[39marray([\u001b[39m0\u001b[39m, \u001b[39m1\u001b[39m, \u001b[39m2\u001b[39m, \u001b[39m3\u001b[39m]), verbose)\n\u001b[1;32m    451\u001b[0m ]\n\u001b[0;32m--> 452\u001b[0m opt_res \u001b[39m=\u001b[39m optimize\u001b[39m.\u001b[39;49mminimize(\n\u001b[1;32m    453\u001b[0m     func,\n\u001b[1;32m    454\u001b[0m     w0,\n\u001b[1;32m    455\u001b[0m     method\u001b[39m=\u001b[39;49m\u001b[39m\"\u001b[39;49m\u001b[39mL-BFGS-B\u001b[39;49m\u001b[39m\"\u001b[39;49m,\n\u001b[1;32m    456\u001b[0m     jac\u001b[39m=\u001b[39;49m\u001b[39mTrue\u001b[39;49;00m,\n\u001b[1;32m    457\u001b[0m     args\u001b[39m=\u001b[39;49m(X, target, sample_weight, l2_reg_strength, n_threads),\n\u001b[1;32m    458\u001b[0m     options\u001b[39m=\u001b[39;49m{\u001b[39m\"\u001b[39;49m\u001b[39miprint\u001b[39;49m\u001b[39m\"\u001b[39;49m: iprint, \u001b[39m\"\u001b[39;49m\u001b[39mgtol\u001b[39;49m\u001b[39m\"\u001b[39;49m: tol, \u001b[39m\"\u001b[39;49m\u001b[39mmaxiter\u001b[39;49m\u001b[39m\"\u001b[39;49m: max_iter},\n\u001b[1;32m    459\u001b[0m )\n\u001b[1;32m    460\u001b[0m n_iter_i \u001b[39m=\u001b[39m _check_optimize_result(\n\u001b[1;32m    461\u001b[0m     solver,\n\u001b[1;32m    462\u001b[0m     opt_res,\n\u001b[1;32m    463\u001b[0m     max_iter,\n\u001b[1;32m    464\u001b[0m     extra_warning_msg\u001b[39m=\u001b[39m_LOGISTIC_SOLVER_CONVERGENCE_MSG,\n\u001b[1;32m    465\u001b[0m )\n\u001b[1;32m    466\u001b[0m w0, loss \u001b[39m=\u001b[39m opt_res\u001b[39m.\u001b[39mx, opt_res\u001b[39m.\u001b[39mfun\n",
      "File \u001b[0;32m~/opt/miniconda3/envs/aerobot/lib/python3.8/site-packages/scipy/optimize/_minimize.py:696\u001b[0m, in \u001b[0;36mminimize\u001b[0;34m(fun, x0, args, method, jac, hess, hessp, bounds, constraints, tol, callback, options)\u001b[0m\n\u001b[1;32m    693\u001b[0m     res \u001b[39m=\u001b[39m _minimize_newtoncg(fun, x0, args, jac, hess, hessp, callback,\n\u001b[1;32m    694\u001b[0m                              \u001b[39m*\u001b[39m\u001b[39m*\u001b[39moptions)\n\u001b[1;32m    695\u001b[0m \u001b[39melif\u001b[39;00m meth \u001b[39m==\u001b[39m \u001b[39m'\u001b[39m\u001b[39ml-bfgs-b\u001b[39m\u001b[39m'\u001b[39m:\n\u001b[0;32m--> 696\u001b[0m     res \u001b[39m=\u001b[39m _minimize_lbfgsb(fun, x0, args, jac, bounds,\n\u001b[1;32m    697\u001b[0m                            callback\u001b[39m=\u001b[39;49mcallback, \u001b[39m*\u001b[39;49m\u001b[39m*\u001b[39;49moptions)\n\u001b[1;32m    698\u001b[0m \u001b[39melif\u001b[39;00m meth \u001b[39m==\u001b[39m \u001b[39m'\u001b[39m\u001b[39mtnc\u001b[39m\u001b[39m'\u001b[39m:\n\u001b[1;32m    699\u001b[0m     res \u001b[39m=\u001b[39m _minimize_tnc(fun, x0, args, jac, bounds, callback\u001b[39m=\u001b[39mcallback,\n\u001b[1;32m    700\u001b[0m                         \u001b[39m*\u001b[39m\u001b[39m*\u001b[39moptions)\n",
      "File \u001b[0;32m~/opt/miniconda3/envs/aerobot/lib/python3.8/site-packages/scipy/optimize/_lbfgsb_py.py:359\u001b[0m, in \u001b[0;36m_minimize_lbfgsb\u001b[0;34m(fun, x0, args, jac, bounds, disp, maxcor, ftol, gtol, eps, maxfun, maxiter, iprint, callback, maxls, finite_diff_rel_step, **unknown_options)\u001b[0m\n\u001b[1;32m    353\u001b[0m task_str \u001b[39m=\u001b[39m task\u001b[39m.\u001b[39mtobytes()\n\u001b[1;32m    354\u001b[0m \u001b[39mif\u001b[39;00m task_str\u001b[39m.\u001b[39mstartswith(\u001b[39mb\u001b[39m\u001b[39m'\u001b[39m\u001b[39mFG\u001b[39m\u001b[39m'\u001b[39m):\n\u001b[1;32m    355\u001b[0m     \u001b[39m# The minimization routine wants f and g at the current x.\u001b[39;00m\n\u001b[1;32m    356\u001b[0m     \u001b[39m# Note that interruptions due to maxfun are postponed\u001b[39;00m\n\u001b[1;32m    357\u001b[0m     \u001b[39m# until the completion of the current minimization iteration.\u001b[39;00m\n\u001b[1;32m    358\u001b[0m     \u001b[39m# Overwrite f and g:\u001b[39;00m\n\u001b[0;32m--> 359\u001b[0m     f, g \u001b[39m=\u001b[39m func_and_grad(x)\n\u001b[1;32m    360\u001b[0m \u001b[39melif\u001b[39;00m task_str\u001b[39m.\u001b[39mstartswith(\u001b[39mb\u001b[39m\u001b[39m'\u001b[39m\u001b[39mNEW_X\u001b[39m\u001b[39m'\u001b[39m):\n\u001b[1;32m    361\u001b[0m     \u001b[39m# new iteration\u001b[39;00m\n\u001b[1;32m    362\u001b[0m     n_iterations \u001b[39m+\u001b[39m\u001b[39m=\u001b[39m \u001b[39m1\u001b[39m\n",
      "File \u001b[0;32m~/opt/miniconda3/envs/aerobot/lib/python3.8/site-packages/scipy/optimize/_differentiable_functions.py:285\u001b[0m, in \u001b[0;36mScalarFunction.fun_and_grad\u001b[0;34m(self, x)\u001b[0m\n\u001b[1;32m    283\u001b[0m \u001b[39mif\u001b[39;00m \u001b[39mnot\u001b[39;00m np\u001b[39m.\u001b[39marray_equal(x, \u001b[39mself\u001b[39m\u001b[39m.\u001b[39mx):\n\u001b[1;32m    284\u001b[0m     \u001b[39mself\u001b[39m\u001b[39m.\u001b[39m_update_x_impl(x)\n\u001b[0;32m--> 285\u001b[0m \u001b[39mself\u001b[39;49m\u001b[39m.\u001b[39;49m_update_fun()\n\u001b[1;32m    286\u001b[0m \u001b[39mself\u001b[39m\u001b[39m.\u001b[39m_update_grad()\n\u001b[1;32m    287\u001b[0m \u001b[39mreturn\u001b[39;00m \u001b[39mself\u001b[39m\u001b[39m.\u001b[39mf, \u001b[39mself\u001b[39m\u001b[39m.\u001b[39mg\n",
      "File \u001b[0;32m~/opt/miniconda3/envs/aerobot/lib/python3.8/site-packages/scipy/optimize/_differentiable_functions.py:251\u001b[0m, in \u001b[0;36mScalarFunction._update_fun\u001b[0;34m(self)\u001b[0m\n\u001b[1;32m    249\u001b[0m \u001b[39mdef\u001b[39;00m \u001b[39m_update_fun\u001b[39m(\u001b[39mself\u001b[39m):\n\u001b[1;32m    250\u001b[0m     \u001b[39mif\u001b[39;00m \u001b[39mnot\u001b[39;00m \u001b[39mself\u001b[39m\u001b[39m.\u001b[39mf_updated:\n\u001b[0;32m--> 251\u001b[0m         \u001b[39mself\u001b[39;49m\u001b[39m.\u001b[39;49m_update_fun_impl()\n\u001b[1;32m    252\u001b[0m         \u001b[39mself\u001b[39m\u001b[39m.\u001b[39mf_updated \u001b[39m=\u001b[39m \u001b[39mTrue\u001b[39;00m\n",
      "File \u001b[0;32m~/opt/miniconda3/envs/aerobot/lib/python3.8/site-packages/scipy/optimize/_differentiable_functions.py:155\u001b[0m, in \u001b[0;36mScalarFunction.__init__.<locals>.update_fun\u001b[0;34m()\u001b[0m\n\u001b[1;32m    154\u001b[0m \u001b[39mdef\u001b[39;00m \u001b[39mupdate_fun\u001b[39m():\n\u001b[0;32m--> 155\u001b[0m     \u001b[39mself\u001b[39m\u001b[39m.\u001b[39mf \u001b[39m=\u001b[39m fun_wrapped(\u001b[39mself\u001b[39;49m\u001b[39m.\u001b[39;49mx)\n",
      "File \u001b[0;32m~/opt/miniconda3/envs/aerobot/lib/python3.8/site-packages/scipy/optimize/_differentiable_functions.py:137\u001b[0m, in \u001b[0;36mScalarFunction.__init__.<locals>.fun_wrapped\u001b[0;34m(x)\u001b[0m\n\u001b[1;32m    133\u001b[0m \u001b[39mself\u001b[39m\u001b[39m.\u001b[39mnfev \u001b[39m+\u001b[39m\u001b[39m=\u001b[39m \u001b[39m1\u001b[39m\n\u001b[1;32m    134\u001b[0m \u001b[39m# Send a copy because the user may overwrite it.\u001b[39;00m\n\u001b[1;32m    135\u001b[0m \u001b[39m# Overwriting results in undefined behaviour because\u001b[39;00m\n\u001b[1;32m    136\u001b[0m \u001b[39m# fun(self.x) will change self.x, with the two no longer linked.\u001b[39;00m\n\u001b[0;32m--> 137\u001b[0m fx \u001b[39m=\u001b[39m fun(np\u001b[39m.\u001b[39;49mcopy(x), \u001b[39m*\u001b[39;49margs)\n\u001b[1;32m    138\u001b[0m \u001b[39m# Make sure the function returns a true scalar\u001b[39;00m\n\u001b[1;32m    139\u001b[0m \u001b[39mif\u001b[39;00m \u001b[39mnot\u001b[39;00m np\u001b[39m.\u001b[39misscalar(fx):\n",
      "File \u001b[0;32m~/opt/miniconda3/envs/aerobot/lib/python3.8/site-packages/scipy/optimize/_optimize.py:76\u001b[0m, in \u001b[0;36mMemoizeJac.__call__\u001b[0;34m(self, x, *args)\u001b[0m\n\u001b[1;32m     74\u001b[0m \u001b[39mdef\u001b[39;00m \u001b[39m__call__\u001b[39m(\u001b[39mself\u001b[39m, x, \u001b[39m*\u001b[39margs):\n\u001b[1;32m     75\u001b[0m \u001b[39m    \u001b[39m\u001b[39m\"\"\" returns the function value \"\"\"\u001b[39;00m\n\u001b[0;32m---> 76\u001b[0m     \u001b[39mself\u001b[39;49m\u001b[39m.\u001b[39;49m_compute_if_needed(x, \u001b[39m*\u001b[39;49margs)\n\u001b[1;32m     77\u001b[0m     \u001b[39mreturn\u001b[39;00m \u001b[39mself\u001b[39m\u001b[39m.\u001b[39m_value\n",
      "File \u001b[0;32m~/opt/miniconda3/envs/aerobot/lib/python3.8/site-packages/scipy/optimize/_optimize.py:70\u001b[0m, in \u001b[0;36mMemoizeJac._compute_if_needed\u001b[0;34m(self, x, *args)\u001b[0m\n\u001b[1;32m     68\u001b[0m \u001b[39mif\u001b[39;00m \u001b[39mnot\u001b[39;00m np\u001b[39m.\u001b[39mall(x \u001b[39m==\u001b[39m \u001b[39mself\u001b[39m\u001b[39m.\u001b[39mx) \u001b[39mor\u001b[39;00m \u001b[39mself\u001b[39m\u001b[39m.\u001b[39m_value \u001b[39mis\u001b[39;00m \u001b[39mNone\u001b[39;00m \u001b[39mor\u001b[39;00m \u001b[39mself\u001b[39m\u001b[39m.\u001b[39mjac \u001b[39mis\u001b[39;00m \u001b[39mNone\u001b[39;00m:\n\u001b[1;32m     69\u001b[0m     \u001b[39mself\u001b[39m\u001b[39m.\u001b[39mx \u001b[39m=\u001b[39m np\u001b[39m.\u001b[39masarray(x)\u001b[39m.\u001b[39mcopy()\n\u001b[0;32m---> 70\u001b[0m     fg \u001b[39m=\u001b[39m \u001b[39mself\u001b[39;49m\u001b[39m.\u001b[39;49mfun(x, \u001b[39m*\u001b[39;49margs)\n\u001b[1;32m     71\u001b[0m     \u001b[39mself\u001b[39m\u001b[39m.\u001b[39mjac \u001b[39m=\u001b[39m fg[\u001b[39m1\u001b[39m]\n\u001b[1;32m     72\u001b[0m     \u001b[39mself\u001b[39m\u001b[39m.\u001b[39m_value \u001b[39m=\u001b[39m fg[\u001b[39m0\u001b[39m]\n",
      "File \u001b[0;32m~/opt/miniconda3/envs/aerobot/lib/python3.8/site-packages/sklearn/linear_model/_linear_loss.py:296\u001b[0m, in \u001b[0;36mLinearModelLoss.loss_gradient\u001b[0;34m(self, coef, X, y, sample_weight, l2_reg_strength, n_threads, raw_prediction)\u001b[0m\n\u001b[1;32m    294\u001b[0m grad \u001b[39m=\u001b[39m np\u001b[39m.\u001b[39mempty((n_classes, n_dof), dtype\u001b[39m=\u001b[39mweights\u001b[39m.\u001b[39mdtype, order\u001b[39m=\u001b[39m\u001b[39m\"\u001b[39m\u001b[39mF\u001b[39m\u001b[39m\"\u001b[39m)\n\u001b[1;32m    295\u001b[0m \u001b[39m# grad_pointwise.shape = (n_samples, n_classes)\u001b[39;00m\n\u001b[0;32m--> 296\u001b[0m grad[:, :n_features] \u001b[39m=\u001b[39m grad_pointwise\u001b[39m.\u001b[39;49mT \u001b[39m@\u001b[39;49m X \u001b[39m+\u001b[39m l2_reg_strength \u001b[39m*\u001b[39m weights\n\u001b[1;32m    297\u001b[0m \u001b[39mif\u001b[39;00m \u001b[39mself\u001b[39m\u001b[39m.\u001b[39mfit_intercept:\n\u001b[1;32m    298\u001b[0m     grad[:, \u001b[39m-\u001b[39m\u001b[39m1\u001b[39m] \u001b[39m=\u001b[39m grad_pointwise\u001b[39m.\u001b[39msum(axis\u001b[39m=\u001b[39m\u001b[39m0\u001b[39m)\n",
      "\u001b[0;31mKeyboardInterrupt\u001b[0m: "
     ]
    }
   ],
   "source": [
    "print(\"Fitting model...\")\n",
    "model = LogisticClassifier(max_iter=100000,normalize=True,random_state=None)\n",
    "model.fit(cleaned_data[\"X_train\"], cleaned_data[\"y_train\"])\n",
    "accuracy = model.score(cleaned_data[\"X_train\"], cleaned_data[\"y_train\"])\n",
    "# balanced accuracy\n",
    "balanced_accuracy = model.balanced_accuracy(cleaned_data[\"X_train\"], cleaned_data[\"y_train\"])\n",
    "#print accuracy and balanced accuracy\n",
    "print(\"Accuracy: \" + str(accuracy))\n",
    "print(\"Balanced Accuracy: \" + str(balanced_accuracy))\n",
    "\n",
    "# compute accuracy and balanced accuracy on test set\n",
    "test_accuracy = model.score(cleaned_data[\"X_test\"], cleaned_data[\"y_test\"])\n",
    "test_balanced_accuracy = model.balanced_accuracy(cleaned_data[\"X_test\"], cleaned_data[\"y_test\"])\n",
    "print(\"Test Accuracy: \" + str(test_accuracy))\n",
    "print(\"Test Balanced Accuracy: \" + str(test_balanced_accuracy))\n"
   ]
  },
  {
   "cell_type": "code",
   "execution_count": 17,
   "metadata": {},
   "outputs": [
    {
     "data": {
      "text/html": [
       "<div>\n",
       "<style scoped>\n",
       "    .dataframe tbody tr th:only-of-type {\n",
       "        vertical-align: middle;\n",
       "    }\n",
       "\n",
       "    .dataframe tbody tr th {\n",
       "        vertical-align: top;\n",
       "    }\n",
       "\n",
       "    .dataframe thead th {\n",
       "        text-align: right;\n",
       "    }\n",
       "</style>\n",
       "<table border=\"1\" class=\"dataframe\">\n",
       "  <thead>\n",
       "    <tr style=\"text-align: right;\">\n",
       "      <th></th>\n",
       "      <th>feature</th>\n",
       "      <th>classifier</th>\n",
       "    </tr>\n",
       "  </thead>\n",
       "  <tbody>\n",
       "    <tr>\n",
       "      <th>16</th>\n",
       "      <td>R</td>\n",
       "      <td>-2.679817</td>\n",
       "    </tr>\n",
       "    <tr>\n",
       "      <th>0</th>\n",
       "      <td>T</td>\n",
       "      <td>-2.307193</td>\n",
       "    </tr>\n",
       "    <tr>\n",
       "      <th>15</th>\n",
       "      <td>M</td>\n",
       "      <td>-1.841049</td>\n",
       "    </tr>\n",
       "    <tr>\n",
       "      <th>13</th>\n",
       "      <td>Y</td>\n",
       "      <td>-1.638596</td>\n",
       "    </tr>\n",
       "    <tr>\n",
       "      <th>7</th>\n",
       "      <td>L</td>\n",
       "      <td>-1.389634</td>\n",
       "    </tr>\n",
       "    <tr>\n",
       "      <th>17</th>\n",
       "      <td>K</td>\n",
       "      <td>-1.337674</td>\n",
       "    </tr>\n",
       "    <tr>\n",
       "      <th>19</th>\n",
       "      <td>C</td>\n",
       "      <td>-1.257192</td>\n",
       "    </tr>\n",
       "    <tr>\n",
       "      <th>9</th>\n",
       "      <td>V</td>\n",
       "      <td>-0.526866</td>\n",
       "    </tr>\n",
       "    <tr>\n",
       "      <th>1</th>\n",
       "      <td>A</td>\n",
       "      <td>-0.296399</td>\n",
       "    </tr>\n",
       "    <tr>\n",
       "      <th>11</th>\n",
       "      <td>Q</td>\n",
       "      <td>-0.193739</td>\n",
       "    </tr>\n",
       "    <tr>\n",
       "      <th>4</th>\n",
       "      <td>S</td>\n",
       "      <td>0.090333</td>\n",
       "    </tr>\n",
       "    <tr>\n",
       "      <th>6</th>\n",
       "      <td>D</td>\n",
       "      <td>0.137755</td>\n",
       "    </tr>\n",
       "    <tr>\n",
       "      <th>12</th>\n",
       "      <td>E</td>\n",
       "      <td>0.309893</td>\n",
       "    </tr>\n",
       "    <tr>\n",
       "      <th>5</th>\n",
       "      <td>I</td>\n",
       "      <td>0.380078</td>\n",
       "    </tr>\n",
       "    <tr>\n",
       "      <th>20</th>\n",
       "      <td>X</td>\n",
       "      <td>0.384323</td>\n",
       "    </tr>\n",
       "    <tr>\n",
       "      <th>3</th>\n",
       "      <td>W</td>\n",
       "      <td>0.444840</td>\n",
       "    </tr>\n",
       "    <tr>\n",
       "      <th>8</th>\n",
       "      <td>P</td>\n",
       "      <td>1.669028</td>\n",
       "    </tr>\n",
       "    <tr>\n",
       "      <th>10</th>\n",
       "      <td>N</td>\n",
       "      <td>1.701264</td>\n",
       "    </tr>\n",
       "    <tr>\n",
       "      <th>14</th>\n",
       "      <td>F</td>\n",
       "      <td>2.309446</td>\n",
       "    </tr>\n",
       "    <tr>\n",
       "      <th>18</th>\n",
       "      <td>H</td>\n",
       "      <td>3.333576</td>\n",
       "    </tr>\n",
       "    <tr>\n",
       "      <th>2</th>\n",
       "      <td>G</td>\n",
       "      <td>3.756645</td>\n",
       "    </tr>\n",
       "  </tbody>\n",
       "</table>\n",
       "</div>"
      ],
      "text/plain": [
       "   feature  classifier\n",
       "16       R   -2.679817\n",
       "0        T   -2.307193\n",
       "15       M   -1.841049\n",
       "13       Y   -1.638596\n",
       "7        L   -1.389634\n",
       "17       K   -1.337674\n",
       "19       C   -1.257192\n",
       "9        V   -0.526866\n",
       "1        A   -0.296399\n",
       "11       Q   -0.193739\n",
       "4        S    0.090333\n",
       "6        D    0.137755\n",
       "12       E    0.309893\n",
       "5        I    0.380078\n",
       "20       X    0.384323\n",
       "3        W    0.444840\n",
       "8        P    1.669028\n",
       "10       N    1.701264\n",
       "14       F    2.309446\n",
       "18       H    3.333576\n",
       "2        G    3.756645"
      ]
     },
     "execution_count": 17,
     "metadata": {},
     "output_type": "execute_result"
    }
   ],
   "source": [
    "pd.DataFrame({\"feature\": cleaned_data[\"column_labels\"],\"classifier\": model.classifier.coef_[0]}).sort_values(\"classifier\")"
   ]
  },
  {
   "cell_type": "code",
   "execution_count": 12,
   "metadata": {},
   "outputs": [
    {
     "data": {
      "text/plain": [
       "array([ 2.94733226, -3.42246645, -0.09591742, -3.55407618, -1.1958855 ,\n",
       "       -0.98051844,  1.21122623, -0.38530672,  0.47636783, -0.89159138,\n",
       "       -3.33099115,  1.75160493, -0.35817813,  2.906923  , -3.24050019,\n",
       "        2.52394423,  4.93388004,  2.63676745, -6.55460127,  3.36246429,\n",
       "        0.35866174])"
      ]
     },
     "execution_count": 12,
     "metadata": {},
     "output_type": "execute_result"
    }
   ],
   "source": [
    "model.classifier.coef_[0]"
   ]
  },
  {
   "cell_type": "code",
   "execution_count": 20,
   "metadata": {},
   "outputs": [
    {
     "data": {
      "text/html": [
       "<div>\n",
       "<style scoped>\n",
       "    .dataframe tbody tr th:only-of-type {\n",
       "        vertical-align: middle;\n",
       "    }\n",
       "\n",
       "    .dataframe tbody tr th {\n",
       "        vertical-align: top;\n",
       "    }\n",
       "\n",
       "    .dataframe thead th {\n",
       "        text-align: right;\n",
       "    }\n",
       "</style>\n",
       "<table border=\"1\" class=\"dataframe\">\n",
       "  <thead>\n",
       "    <tr style=\"text-align: right;\">\n",
       "      <th></th>\n",
       "      <th>Aerobe</th>\n",
       "      <th>Anaerobe</th>\n",
       "      <th>Facultative</th>\n",
       "    </tr>\n",
       "  </thead>\n",
       "  <tbody>\n",
       "    <tr>\n",
       "      <th>Aerobe</th>\n",
       "      <td>0.937391</td>\n",
       "      <td>0.034783</td>\n",
       "      <td>0.027826</td>\n",
       "    </tr>\n",
       "    <tr>\n",
       "      <th>Anaerobe</th>\n",
       "      <td>0.085691</td>\n",
       "      <td>0.902662</td>\n",
       "      <td>0.011647</td>\n",
       "    </tr>\n",
       "    <tr>\n",
       "      <th>Facultative</th>\n",
       "      <td>0.382979</td>\n",
       "      <td>0.196217</td>\n",
       "      <td>0.420804</td>\n",
       "    </tr>\n",
       "  </tbody>\n",
       "</table>\n",
       "</div>"
      ],
      "text/plain": [
       "               Aerobe  Anaerobe  Facultative\n",
       "Aerobe       0.937391  0.034783     0.027826\n",
       "Anaerobe     0.085691  0.902662     0.011647\n",
       "Facultative  0.382979  0.196217     0.420804"
      ]
     },
     "execution_count": 20,
     "metadata": {},
     "output_type": "execute_result"
    }
   ],
   "source": [
    "C = model.confusion_matrix(cleaned_data[\"X_train\"], cleaned_data[\"y_train\"])\n",
    "C= pd.DataFrame(C,index=model.classifier.classes_,columns=model.classifier.classes_)\n",
    "C.apply(lambda x: x/x.sum(),axis=1)"
   ]
  },
  {
   "cell_type": "code",
   "execution_count": 8,
   "metadata": {},
   "outputs": [],
   "source": [
    "import os\n",
    "import pandas as pd\n",
    "import glob\n",
    "\n",
    "# Define the root directory\n",
    "root_dir = '/Users/joshuagoldford/Documents/work/research_projects/metals_metabolism/data/BlackSea_PRJNA649215/mags_black_sea/'\n",
    "\n",
    "# Get a list of all .faa files under the root directory\n",
    "file_paths = glob.glob(root_dir + '**/*.faa', recursive=True)\n",
    "\n",
    "# Extract the genome ids from the file paths\n",
    "genome_ids = [os.path.basename(os.path.dirname(path)) for path in file_paths]\n",
    "\n",
    "# Convert the data into a pandas dataframe\n",
    "mags = pd.DataFrame({\n",
    "    'Genome_ID': genome_ids,\n",
    "    'File_Path': file_paths\n",
    "})\n",
    "\n",
    "file_mapper = mags.set_index(\"File_Path\")[\"Genome_ID\"].to_dict()\n",
    "\n"
   ]
  },
  {
   "cell_type": "code",
   "execution_count": 62,
   "metadata": {},
   "outputs": [],
   "source": [
    "#cleaned_data[\"column_labels\"]"
   ]
  },
  {
   "cell_type": "code",
   "execution_count": 74,
   "metadata": {},
   "outputs": [
    {
     "name": "stderr",
     "output_type": "stream",
     "text": [
      "/Users/joshuagoldford/opt/miniconda3/envs/aerobot/lib/python3.8/site-packages/sklearn/base.py:457: UserWarning: X has feature names, but StandardScaler was fitted without feature names\n",
      "  warnings.warn(\n"
     ]
    }
   ],
   "source": [
    "aa_kmer = count_aa_kmers(mags.File_Path.tolist(),kmer)\n",
    "aa_kmer = aa_kmer.T\n",
    "aa_kmer.index = [file_mapper[x] for x in aa_kmer.index.tolist()]\n",
    "aa_kmer = aa_kmer.reindex(columns=cleaned_data[\"column_labels\"], fill_value=0)\n",
    "labels = model.predict(aa_kmer)\n"
   ]
  },
  {
   "cell_type": "code",
   "execution_count": 67,
   "metadata": {},
   "outputs": [],
   "source": [
    "mag_fraction = pd.read_csv(\"/Users/joshuagoldford/Documents/work/research_projects/metals_metabolism/data/blackSea.MAGfraction.04Feb2023.csv\",index_col=0)\n",
    "metadata = pd.read_csv(\"/Users/joshuagoldford/Documents/work/research_projects/metals_metabolism/data/blackSea.metadata.csv\",index_col=0)\n"
   ]
  },
  {
   "cell_type": "code",
   "execution_count": 76,
   "metadata": {},
   "outputs": [],
   "source": [
    "z = pd.DataFrame(labels,index=aa_kmer.index,columns=[\"oxygen\"])\n",
    "z = z.join(mag_fraction).dropna(axis=0).fillna(0)\n",
    "z = z.groupby(\"oxygen\").sum().T\n",
    "df = metadata.join(z)"
   ]
  },
  {
   "cell_type": "code",
   "execution_count": 77,
   "metadata": {},
   "outputs": [
    {
     "data": {
      "image/png": "[encoded data removed]",
      "text/plain": [
       "<Figure size 640x480 with 1 Axes>"
      ]
     },
     "metadata": {},
     "output_type": "display_data"
    }
   ],
   "source": [
    "for label in list(set(labels)):\n",
    "    sns.scatterplot(x=label,y=\"depth_m\",data=df)\n",
    "    #sns.lineplot(x=label,y=\"depth_m\",data=df)\n",
    "\n"
   ]
  },
  {
   "cell_type": "code",
   "execution_count": 1,
   "metadata": {},
   "outputs": [
    {
     "name": "stdout",
     "output_type": "stream",
     "text": [
      "Loading data...\n"
     ]
    }
   ],
   "source": [
    "import pandas as pd\n",
    "from aerobot.io import load_training_data, load_validation_data\n",
    "from aerobot.utls import process_data, count_aa_kmers, download_genomes_from_assembly\n",
    "from aerobot.models import LogisticClassifier\n",
    "import seaborn as sns\n",
    "\n",
    "print(\"Loading data...\")\n",
    "\n",
    "feature_type = \"aa_2mer\"\n",
    "training_data = load_training_data(feature_type=feature_type)\n",
    "validation_data = load_validation_data(feature_type=feature_type)\n",
    "# convert labels to two classes (change Facultative to Aerobe)\n",
    "training_data[\"labels\"][\"physiology\"] = training_data[\"labels\"][\"physiology\"].replace(\"Facultative\", \"Aerobe\")\n",
    "validation_data[\"labels\"][\"physiology\"] = validation_data[\"labels\"][\"physiology\"].replace(\"Facultative\", \"Aerobe\")\n",
    "cleaned_data = process_data(training_data[\"features\"], training_data[\"labels\"][\"physiology\"], validation_data[\"features\"], validation_data[\"labels\"][\"physiology\"])"
   ]
  },
  {
   "cell_type": "code",
   "execution_count": 11,
   "metadata": {},
   "outputs": [
    {
     "name": "stdout",
     "output_type": "stream",
     "text": [
      "Best parameters: {'C': 1}\n",
      "Accuracy: 0.9501492537313433\n",
      "Balanced Accuracy: 0.9422571629531167\n",
      "Test Accuracy: 0.8198529411764706\n",
      "Test Balanced Accuracy: 0.8090142849324065\n"
     ]
    }
   ],
   "source": [
    "from sklearn.linear_model import LogisticRegression\n",
    "from aerobot.models import GeneralClassifier\n",
    "\n",
    "\n",
    "# Initialize the GeneralClassifier with LogisticRegression having L2 penalty (default for LogisticRegression)\n",
    "model = GeneralClassifier(model_class=LogisticRegression, params={'penalty': 'l2', 'solver': 'lbfgs', 'max_iter': 10000})\n",
    "\n",
    "# Hyperparameter optimization\n",
    "\n",
    "param_grid = {\n",
    "    'C': [0.001, 0.01, 0.1, 1, 10, 100]\n",
    "}\n",
    "best_params = clf.hyperparameter_optimization(cleaned_data[\"X_train\"], cleaned_data[\"y_train\"], param_grid)\n",
    "print(\"Best parameters:\", best_params)\n",
    "\n",
    "# Fit the classifier with optimized parameters\n",
    "model.fit(cleaned_data[\"X_train\"], cleaned_data[\"y_train\"])\n",
    "\n",
    "\n",
    "accuracy = model.score(cleaned_data[\"X_train\"], cleaned_data[\"y_train\"])\n",
    "# balanced accuracy\n",
    "balanced_accuracy = model.balanced_accuracy(cleaned_data[\"X_train\"], cleaned_data[\"y_train\"])\n",
    "#print accuracy and balanced accuracy\n",
    "print(\"Accuracy: \" + str(accuracy))\n",
    "print(\"Balanced Accuracy: \" + str(balanced_accuracy))\n",
    "\n",
    "# compute accuracy and balanced accuracy on test set\n",
    "test_accuracy = model.score(cleaned_data[\"X_test\"], cleaned_data[\"y_test\"])\n",
    "test_balanced_accuracy = model.balanced_accuracy(cleaned_data[\"X_test\"], cleaned_data[\"y_test\"])\n",
    "print(\"Test Accuracy: \" + str(test_accuracy))\n",
    "print(\"Test Balanced Accuracy: \" + str(test_balanced_accuracy))\n",
    "\n"
   ]
  },
  {
   "cell_type": "code",
   "execution_count": 5,
   "metadata": {},
   "outputs": [],
   "source": [
    "\n",
    "ko2ec = pd.read_csv(\"../assets/mappings/keggOrthogroupsToECnumbers.07Feb2023.csv\",index_col=0)\n",
    "oxygen_genes = pd.read_csv(\"../assets/mappings/ko_groups.oxygenAssociated.07Feb2023.csv\",index_col=0)\n",
    "oxygen_genes = oxygen_genes.KO.tolist()\n",
    "ko2ec[\"EC\"] = ko2ec[\"ec\"].apply(lambda x: x.split(\":\")[1])\n",
    "ko2ec[\"KO\"] = ko2ec[\"ko\"].apply(lambda x: x.split(\":\")[1])\n",
    "\n",
    "\n",
    "gene_lists = {}\n",
    "#terminal_oxidase_gfs = kegg.link(\"ko\",\"md:M00154+md:M00155+md:M00417+md:M00416+md:M00156\")[\"f2\"].apply(lambda x: x.split(\":\")[1]).tolist()\n",
    "gene_lists[\"terminal_oxidase\"] = ['K02257', 'K02262', 'K02256', 'K02261', 'K02263', 'K02264', 'K02265', 'K02266', 'K02267', 'K02268', 'K02270', 'K02271', 'K02272', 'K02273', 'K02258', 'K02259', 'K02260', 'K02275', 'K02274', 'K02276', 'K15408', 'K02277', 'K02297', 'K02298', 'K02299', 'K02300', 'K02827', 'K02826', 'K02828', 'K02829', 'K00404', 'K00405', 'K15862', 'K00407', 'K00406']\n",
    "gene_lists[\"oxygen_genes\"] = oxygen_genes\n",
    "\n",
    "ECs5 = [\"ec:1.3.3.3\",\"ec:1.14.13.180\",\"ec:1.14.13.113\",\"ec:1.14.19.1\",\"ec:1.14.14.47\"]\n",
    "KO5 = [x.split(\":\")[1] for x in ko2ec[ko2ec.ec.isin(ECs5)].ko.tolist()]\n",
    "gene_lists[\"5_gene\"]  = KO5\n"
   ]
  },
  {
   "cell_type": "code",
   "execution_count": 10,
   "metadata": {},
   "outputs": [],
   "source": [
    "pd.DataFrame(gene_lists[\"oxygen_genes\"]).to_csv(\"../assets/gene_sets/oxygen_associated_genes.csv\",index=False,header=False)\n",
    "pd.DataFrame(gene_lists[\"terminal_oxidase\"]).to_csv(\"../assets/gene_sets/terminal_oxidase_genes.csv\",index=False,header=False)\n",
    "pd.DataFrame(gene_lists[\"5_gene\"]).to_csv(\"../assets/gene_sets/jablonska_five_genes.csv\",index=False,header=False)"
   ]
  },
  {
   "cell_type": "code",
   "execution_count": null,
   "metadata": {},
   "outputs": [],
   "source": []
  }
 ],
 "metadata": {
  "kernelspec": {
   "display_name": "aerobot",
   "language": "python",
   "name": "python3"
  },
  "language_info": {
   "codemirror_mode": {
    "name": "ipython",
    "version": 3
   },
   "file_extension": ".py",
   "mimetype": "text/x-python",
   "name": "python",
   "nbconvert_exporter": "python",
   "pygments_lexer": "ipython3",
   "version": "3.8.17"
  },
  "orig_nbformat": 4
 },
 "nbformat": 4,
 "nbformat_minor": 2
}
