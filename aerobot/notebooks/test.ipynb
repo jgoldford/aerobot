{
 "cells": [
  {
   "cell_type": "code",
   "execution_count": 18,
   "metadata": {},
   "outputs": [
    {
     "name": "stdout",
     "output_type": "stream",
     "text": [
      "Loading data...\n"
     ]
    }
   ],
   "source": [
    "import pandas as pd\n",
    "from aerobot.io import load_training_data, load_validation_data, asset_path\n",
    "from aerobot.utls import process_data, count_aa_kmers, download_genomes_from_assembly\n",
    "from aerobot.models import LogisticClassifier\n",
    "import seaborn as sns\n",
    "\n",
    "print(\"Loading data...\")\n",
    "#feature_type = \"embedding.genome\"\n",
    "#kmer = 3\n",
    "#feature_type = f\"aa_{kmer}mer\"\n",
    "feature_type = \"nt_5mer\"\n",
    "training_data = load_training_data(feature_type=feature_type)\n",
    "validation_data = load_validation_data(feature_type=feature_type)\n",
    "cleaned_data = process_data(training_data[\"features\"], training_data[\"labels\"][\"physiology\"], validation_data[\"features\"], validation_data[\"labels\"][\"physiology\"])\n",
    "only_cononical_nts = [x for x in cleaned_data[\"column_labels\"] if len(set(x) - set([\"A\",\"C\",\"G\",\"T\"])) == 0]\n",
    "columns_to_keep = [x in only_cononical_nts for x in cleaned_data[\"column_labels\"]]\n",
    "cleaned_data[\"X_train\"] = cleaned_data[\"X_train\"][:,columns_to_keep]\n",
    "cleaned_data[\"X_test\"] = cleaned_data[\"X_test\"][:,columns_to_keep]\n",
    "cleaned_data[\"column_labels\"] = [x for x in cleaned_data[\"column_labels\"] if x in only_cononical_nts]\n"
   ]
  },
  {
   "cell_type": "code",
   "execution_count": 19,
   "metadata": {},
   "outputs": [
    {
     "name": "stdout",
     "output_type": "stream",
     "text": [
      "Fitting model...\n",
      "Accuracy: 0.8597014925373134\n",
      "Balanced Accuracy: 0.7536191054903468\n",
      "Test Accuracy: 0.6893939393939394\n",
      "Test Balanced Accuracy: 0.6618607729718841\n"
     ]
    }
   ],
   "source": [
    "print(\"Fitting model...\")\n",
    "model = LogisticClassifier(max_iter=1000000,normalize=True,random_state=None)\n",
    "model.fit(cleaned_data[\"X_train\"], cleaned_data[\"y_train\"])\n",
    "accuracy = model.score(cleaned_data[\"X_train\"], cleaned_data[\"y_train\"])\n",
    "# balanced accuracy\n",
    "balanced_accuracy = model.balanced_accuracy(cleaned_data[\"X_train\"], cleaned_data[\"y_train\"])\n",
    "#print accuracy and balanced accuracy\n",
    "print(\"Accuracy: \" + str(accuracy))\n",
    "print(\"Balanced Accuracy: \" + str(balanced_accuracy))\n",
    "\n",
    "# compute accuracy and balanced accuracy on test set\n",
    "test_accuracy = model.score(cleaned_data[\"X_test\"], cleaned_data[\"y_test\"])\n",
    "test_balanced_accuracy = model.balanced_accuracy(cleaned_data[\"X_test\"], cleaned_data[\"y_test\"])\n",
    "print(\"Test Accuracy: \" + str(test_accuracy))\n",
    "print(\"Test Balanced Accuracy: \" + str(test_balanced_accuracy))\n"
   ]
  },
  {
   "cell_type": "code",
   "execution_count": 20,
   "metadata": {},
   "outputs": [
    {
     "data": {
      "text/html": [
       "<div>\n",
       "<style scoped>\n",
       "    .dataframe tbody tr th:only-of-type {\n",
       "        vertical-align: middle;\n",
       "    }\n",
       "\n",
       "    .dataframe tbody tr th {\n",
       "        vertical-align: top;\n",
       "    }\n",
       "\n",
       "    .dataframe thead th {\n",
       "        text-align: right;\n",
       "    }\n",
       "</style>\n",
       "<table border=\"1\" class=\"dataframe\">\n",
       "  <thead>\n",
       "    <tr style=\"text-align: right;\">\n",
       "      <th></th>\n",
       "      <th>Aerobe</th>\n",
       "      <th>Anaerobe</th>\n",
       "      <th>Facultative</th>\n",
       "    </tr>\n",
       "  </thead>\n",
       "  <tbody>\n",
       "    <tr>\n",
       "      <th>Aerobe</th>\n",
       "      <td>0.937391</td>\n",
       "      <td>0.034783</td>\n",
       "      <td>0.027826</td>\n",
       "    </tr>\n",
       "    <tr>\n",
       "      <th>Anaerobe</th>\n",
       "      <td>0.085691</td>\n",
       "      <td>0.902662</td>\n",
       "      <td>0.011647</td>\n",
       "    </tr>\n",
       "    <tr>\n",
       "      <th>Facultative</th>\n",
       "      <td>0.382979</td>\n",
       "      <td>0.196217</td>\n",
       "      <td>0.420804</td>\n",
       "    </tr>\n",
       "  </tbody>\n",
       "</table>\n",
       "</div>"
      ],
      "text/plain": [
       "               Aerobe  Anaerobe  Facultative\n",
       "Aerobe       0.937391  0.034783     0.027826\n",
       "Anaerobe     0.085691  0.902662     0.011647\n",
       "Facultative  0.382979  0.196217     0.420804"
      ]
     },
     "execution_count": 20,
     "metadata": {},
     "output_type": "execute_result"
    }
   ],
   "source": [
    "C = model.confusion_matrix(cleaned_data[\"X_train\"], cleaned_data[\"y_train\"])\n",
    "C= pd.DataFrame(C,index=model.classifier.classes_,columns=model.classifier.classes_)\n",
    "C.apply(lambda x: x/x.sum(),axis=1)"
   ]
  },
  {
   "cell_type": "code",
   "execution_count": 8,
   "metadata": {},
   "outputs": [],
   "source": [
    "import os\n",
    "import pandas as pd\n",
    "import glob\n",
    "\n",
    "# Define the root directory\n",
    "root_dir = '/Users/joshuagoldford/Documents/work/research_projects/metals_metabolism/data/BlackSea_PRJNA649215/mags_black_sea/'\n",
    "\n",
    "# Get a list of all .faa files under the root directory\n",
    "file_paths = glob.glob(root_dir + '**/*.faa', recursive=True)\n",
    "\n",
    "# Extract the genome ids from the file paths\n",
    "genome_ids = [os.path.basename(os.path.dirname(path)) for path in file_paths]\n",
    "\n",
    "# Convert the data into a pandas dataframe\n",
    "mags = pd.DataFrame({\n",
    "    'Genome_ID': genome_ids,\n",
    "    'File_Path': file_paths\n",
    "})\n",
    "\n",
    "file_mapper = mags.set_index(\"File_Path\")[\"Genome_ID\"].to_dict()\n",
    "\n"
   ]
  },
  {
   "cell_type": "code",
   "execution_count": 62,
   "metadata": {},
   "outputs": [],
   "source": [
    "#cleaned_data[\"column_labels\"]"
   ]
  },
  {
   "cell_type": "code",
   "execution_count": 74,
   "metadata": {},
   "outputs": [
    {
     "name": "stderr",
     "output_type": "stream",
     "text": [
      "/Users/joshuagoldford/opt/miniconda3/envs/aerobot/lib/python3.8/site-packages/sklearn/base.py:457: UserWarning: X has feature names, but StandardScaler was fitted without feature names\n",
      "  warnings.warn(\n"
     ]
    }
   ],
   "source": [
    "aa_kmer = count_aa_kmers(mags.File_Path.tolist(),kmer)\n",
    "aa_kmer = aa_kmer.T\n",
    "aa_kmer.index = [file_mapper[x] for x in aa_kmer.index.tolist()]\n",
    "aa_kmer = aa_kmer.reindex(columns=cleaned_data[\"column_labels\"], fill_value=0)\n",
    "labels = model.predict(aa_kmer)\n"
   ]
  },
  {
   "cell_type": "code",
   "execution_count": 75,
   "metadata": {},
   "outputs": [
    {
     "data": {
      "text/plain": [
       "array(['Aerobe', 'Anaerobe', 'Aerobe', 'Aerobe', 'Aerobe', 'Aerobe',\n",
       "       'Aerobe', 'Anaerobe', 'Aerobe', 'Anaerobe', 'Aerobe', 'Aerobe',\n",
       "       'Aerobe', 'Aerobe', 'Anaerobe', 'Anaerobe', 'Aerobe', 'Anaerobe',\n",
       "       'Aerobe', 'Anaerobe', 'Anaerobe', 'Aerobe', 'Aerobe', 'Anaerobe',\n",
       "       'Aerobe', 'Aerobe', 'Aerobe', 'Anaerobe', 'Anaerobe', 'Aerobe',\n",
       "       'Aerobe', 'Aerobe', 'Anaerobe', 'Anaerobe', 'Anaerobe', 'Anaerobe',\n",
       "       'Aerobe', 'Aerobe', 'Anaerobe', 'Anaerobe', 'Aerobe', 'Anaerobe',\n",
       "       'Aerobe', 'Aerobe', 'Aerobe', 'Anaerobe', 'Anaerobe', 'Aerobe',\n",
       "       'Anaerobe', 'Anaerobe', 'Anaerobe', 'Anaerobe', 'Aerobe',\n",
       "       'Anaerobe', 'Aerobe', 'Anaerobe', 'Aerobe', 'Aerobe', 'Aerobe',\n",
       "       'Aerobe', 'Anaerobe', 'Aerobe', 'Aerobe', 'Aerobe', 'Anaerobe',\n",
       "       'Aerobe', 'Anaerobe', 'Anaerobe', 'Aerobe', 'Aerobe', 'Anaerobe',\n",
       "       'Aerobe', 'Aerobe', 'Anaerobe', 'Aerobe', 'Anaerobe', 'Anaerobe',\n",
       "       'Aerobe', 'Anaerobe', 'Aerobe', 'Aerobe', 'Aerobe', 'Aerobe',\n",
       "       'Aerobe', 'Anaerobe', 'Aerobe', 'Aerobe', 'Anaerobe', 'Anaerobe',\n",
       "       'Aerobe', 'Anaerobe', 'Anaerobe', 'Anaerobe', 'Anaerobe',\n",
       "       'Anaerobe', 'Anaerobe', 'Aerobe', 'Anaerobe', 'Aerobe', 'Aerobe',\n",
       "       'Aerobe', 'Aerobe', 'Aerobe', 'Aerobe', 'Aerobe', 'Anaerobe',\n",
       "       'Aerobe', 'Anaerobe', 'Aerobe', 'Aerobe', 'Aerobe', 'Aerobe',\n",
       "       'Aerobe', 'Aerobe', 'Aerobe', 'Anaerobe', 'Aerobe', 'Aerobe',\n",
       "       'Aerobe', 'Aerobe', 'Aerobe', 'Anaerobe', 'Aerobe', 'Aerobe',\n",
       "       'Anaerobe', 'Anaerobe', 'Aerobe', 'Aerobe', 'Aerobe', 'Anaerobe',\n",
       "       'Aerobe', 'Aerobe', 'Anaerobe', 'Aerobe', 'Aerobe', 'Anaerobe',\n",
       "       'Aerobe', 'Anaerobe', 'Anaerobe', 'Anaerobe', 'Anaerobe', 'Aerobe',\n",
       "       'Aerobe', 'Aerobe', 'Aerobe', 'Aerobe', 'Anaerobe', 'Aerobe',\n",
       "       'Anaerobe', 'Aerobe', 'Aerobe', 'Anaerobe', 'Aerobe', 'Anaerobe',\n",
       "       'Aerobe', 'Aerobe', 'Aerobe', 'Anaerobe', 'Anaerobe', 'Aerobe'],\n",
       "      dtype=object)"
      ]
     },
     "execution_count": 75,
     "metadata": {},
     "output_type": "execute_result"
    }
   ],
   "source": [
    "labels"
   ]
  },
  {
   "cell_type": "code",
   "execution_count": 67,
   "metadata": {},
   "outputs": [],
   "source": [
    "mag_fraction = pd.read_csv(\"/Users/joshuagoldford/Documents/work/research_projects/metals_metabolism/data/blackSea.MAGfraction.04Feb2023.csv\",index_col=0)\n",
    "metadata = pd.read_csv(\"/Users/joshuagoldford/Documents/work/research_projects/metals_metabolism/data/blackSea.metadata.csv\",index_col=0)\n"
   ]
  },
  {
   "cell_type": "code",
   "execution_count": 76,
   "metadata": {},
   "outputs": [],
   "source": [
    "z = pd.DataFrame(labels,index=aa_kmer.index,columns=[\"oxygen\"])\n",
    "z = z.join(mag_fraction).dropna(axis=0).fillna(0)\n",
    "z = z.groupby(\"oxygen\").sum().T\n",
    "df = metadata.join(z)"
   ]
  },
  {
   "cell_type": "code",
   "execution_count": 77,
   "metadata": {},
   "outputs": [
    {
     "data": {
      "image/png": "[encoded data removed]",
      "text/plain": [
       "<Figure size 640x480 with 1 Axes>"
      ]
     },
     "metadata": {},
     "output_type": "display_data"
    }
   ],
   "source": [
    "for label in list(set(labels)):\n",
    "    sns.scatterplot(x=label,y=\"depth_m\",data=df)\n",
    "    #sns.lineplot(x=label,y=\"depth_m\",data=df)\n",
    "\n"
   ]
  },
  {
   "cell_type": "code",
   "execution_count": null,
   "metadata": {},
   "outputs": [],
   "source": []
  }
 ],
 "metadata": {
  "kernelspec": {
   "display_name": "aerobot",
   "language": "python",
   "name": "python3"
  },
  "language_info": {
   "codemirror_mode": {
    "name": "ipython",
    "version": 3
   },
   "file_extension": ".py",
   "mimetype": "text/x-python",
   "name": "python",
   "nbconvert_exporter": "python",
   "pygments_lexer": "ipython3",
   "version": "3.8.17"
  },
  "orig_nbformat": 4
 },
 "nbformat": 4,
 "nbformat_minor": 2
}
