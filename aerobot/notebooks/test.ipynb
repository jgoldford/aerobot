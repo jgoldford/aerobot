{
 "cells": [
  {
   "cell_type": "code",
   "execution_count": 8,
   "metadata": {},
   "outputs": [
    {
     "name": "stdout",
     "output_type": "stream",
     "text": [
      "Loading data...\n"
     ]
    }
   ],
   "source": [
    "import pandas as pd\n",
    "from aerobot.io import load_training_data, load_validation_data, asset_path\n",
    "from aerobot.lib import process_data\n",
    "from aerobot.models import LogisticClassifier\n",
    "\n",
    "print(\"Loading data...\")\n",
    "feature_type = \"aa_3mer\"\n",
    "training_data = load_training_data(feature_type=feature_type)\n",
    "validation_data = load_validation_data(feature_type=feature_type)\n",
    "cleaned_data = process_data(training_data[\"features\"], training_data[\"labels\"][\"physiology\"], validation_data[\"features\"], validation_data[\"labels\"][\"physiology\"])"
   ]
  },
  {
   "cell_type": "code",
   "execution_count": 9,
   "metadata": {},
   "outputs": [
    {
     "name": "stdout",
     "output_type": "stream",
     "text": [
      "Fitting model...\n"
     ]
    }
   ],
   "source": [
    "print(\"Fitting model...\")\n",
    "model = LogisticClassifier(max_iter=1000000)\n",
    "model.fit(cleaned_data[\"X_train\"], cleaned_data[\"y_train\"])\n",
    "accuracy = model.score(cleaned_data[\"X_train\"], cleaned_data[\"y_train\"])\n",
    "# balanced accuracy\n",
    "balanced_accuracy = model.balanced_accuracy(cleaned_data[\"X_train\"], cleaned_data[\"y_train\"])\n",
    "#print accuracy and balanced accuracy\n",
    "print(\"Accuracy: \" + str(accuracy))\n",
    "print(\"Balanced Accuracy: \" + str(balanced_accuracy))\n"
   ]
  },
  {
   "cell_type": "code",
   "execution_count": 4,
   "metadata": {},
   "outputs": [
    {
     "data": {
      "text/plain": [
       "0.6948529411764706"
      ]
     },
     "execution_count": 4,
     "metadata": {},
     "output_type": "execute_result"
    }
   ],
   "source": [
    "# take test data and fill nans with zeros\n",
    "X_test = cleaned_data[\"X_test\"]\n",
    "X_test = pd.DataFrame(X_test, index=cleaned_data[\"test_row_labels\"], columns=cleaned_data[\"column_labels\"])\n",
    "X_test = X_test.fillna(0).values\n",
    "model.score(X_test, cleaned_data[\"y_test\"])"
   ]
  },
  {
   "cell_type": "code",
   "execution_count": 7,
   "metadata": {},
   "outputs": [
    {
     "data": {
      "text/html": [
       "<div>\n",
       "<style scoped>\n",
       "    .dataframe tbody tr th:only-of-type {\n",
       "        vertical-align: middle;\n",
       "    }\n",
       "\n",
       "    .dataframe tbody tr th {\n",
       "        vertical-align: top;\n",
       "    }\n",
       "\n",
       "    .dataframe thead th {\n",
       "        text-align: right;\n",
       "    }\n",
       "</style>\n",
       "<table border=\"1\" class=\"dataframe\">\n",
       "  <thead>\n",
       "    <tr style=\"text-align: right;\">\n",
       "      <th></th>\n",
       "      <th>Aerobe</th>\n",
       "      <th>Anaerobe</th>\n",
       "      <th>Facultative</th>\n",
       "    </tr>\n",
       "  </thead>\n",
       "  <tbody>\n",
       "    <tr>\n",
       "      <th>Aerobe</th>\n",
       "      <td>0.948406</td>\n",
       "      <td>0.018551</td>\n",
       "      <td>0.033043</td>\n",
       "    </tr>\n",
       "    <tr>\n",
       "      <th>Anaerobe</th>\n",
       "      <td>0.064892</td>\n",
       "      <td>0.923461</td>\n",
       "      <td>0.011647</td>\n",
       "    </tr>\n",
       "    <tr>\n",
       "      <th>Facultative</th>\n",
       "      <td>0.347518</td>\n",
       "      <td>0.137116</td>\n",
       "      <td>0.515366</td>\n",
       "    </tr>\n",
       "  </tbody>\n",
       "</table>\n",
       "</div>"
      ],
      "text/plain": [
       "               Aerobe  Anaerobe  Facultative\n",
       "Aerobe       0.948406  0.018551     0.033043\n",
       "Anaerobe     0.064892  0.923461     0.011647\n",
       "Facultative  0.347518  0.137116     0.515366"
      ]
     },
     "execution_count": 7,
     "metadata": {},
     "output_type": "execute_result"
    }
   ],
   "source": [
    "C = model.confusion_matrix(cleaned_data[\"X_train\"], cleaned_data[\"y_train\"])\n",
    "C= pd.DataFrame(C,index=model.classifier.classes_,columns=model.classifier.classes_)\n",
    "C.apply(lambda x: x/x.sum(),axis=1)"
   ]
  }
 ],
 "metadata": {
  "kernelspec": {
   "display_name": "aerobot",
   "language": "python",
   "name": "python3"
  },
  "language_info": {
   "codemirror_mode": {
    "name": "ipython",
    "version": 3
   },
   "file_extension": ".py",
   "mimetype": "text/x-python",
   "name": "python",
   "nbconvert_exporter": "python",
   "pygments_lexer": "ipython3",
   "version": "3.8.17"
  },
  "orig_nbformat": 4
 },
 "nbformat": 4,
 "nbformat_minor": 2
}
