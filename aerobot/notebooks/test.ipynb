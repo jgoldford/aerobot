{
 "cells": [
  {
   "cell_type": "code",
   "execution_count": 56,
   "metadata": {},
   "outputs": [
    {
     "name": "stdout",
     "output_type": "stream",
     "text": [
      "Loading data...\n"
     ]
    }
   ],
   "source": [
    "import pandas as pd\n",
    "from aerobot.io import load_training_data, load_validation_data, asset_path\n",
    "from aerobot.utls import process_data, count_aa_kmers\n",
    "from aerobot.models import LogisticClassifier\n",
    "import seaborn as sns\n",
    "\n",
    "print(\"Loading data...\")\n",
    "#feature_type = \"embedding.genome\"\n",
    "kmer = 2\n",
    "feature_type = f\"aa_{kmer}mer\"\n",
    "training_data = load_training_data(feature_type=feature_type)\n",
    "validation_data = load_validation_data(feature_type=feature_type)\n",
    "cleaned_data = process_data(training_data[\"features\"], training_data[\"labels\"][\"physiology\"], validation_data[\"features\"], validation_data[\"labels\"][\"physiology\"])"
   ]
  },
  {
   "cell_type": "code",
   "execution_count": 57,
   "metadata": {},
   "outputs": [
    {
     "name": "stdout",
     "output_type": "stream",
     "text": [
      "Fitting model...\n"
     ]
    }
   ],
   "source": [
    "print(\"Fitting model...\")\n",
    "model = LogisticClassifier(max_iter=1000000,normalize=True)\n",
    "model.fit(cleaned_data[\"X_train\"], cleaned_data[\"y_train\"])\n",
    "accuracy = model.score(cleaned_data[\"X_train\"], cleaned_data[\"y_train\"])\n",
    "# balanced accuracy\n",
    "balanced_accuracy = model.balanced_accuracy(cleaned_data[\"X_train\"], cleaned_data[\"y_train\"])\n",
    "#print accuracy and balanced accuracy\n",
    "print(\"Accuracy: \" + str(accuracy))\n",
    "print(\"Balanced Accuracy: \" + str(balanced_accuracy))\n",
    "\n",
    "\n",
    "# compute accuracy and balanced accuracy on test set\n",
    "test_accuracy = model.score(cleaned_data[\"X_test\"], cleaned_data[\"y_test\"])\n",
    "test_balanced_accuracy = model.balanced_accuracy(cleaned_data[\"X_test\"], cleaned_data[\"y_test\"])\n",
    "print(\"Test Accuracy: \" + str(test_accuracy))\n",
    "print(\"Test Balanced Accuracy: \" + str(test_balanced_accuracy))\n"
   ]
  },
  {
   "cell_type": "code",
   "execution_count": 4,
   "metadata": {},
   "outputs": [
    {
     "data": {
      "text/html": [
       "<div>\n",
       "<style scoped>\n",
       "    .dataframe tbody tr th:only-of-type {\n",
       "        vertical-align: middle;\n",
       "    }\n",
       "\n",
       "    .dataframe tbody tr th {\n",
       "        vertical-align: top;\n",
       "    }\n",
       "\n",
       "    .dataframe thead th {\n",
       "        text-align: right;\n",
       "    }\n",
       "</style>\n",
       "<table border=\"1\" class=\"dataframe\">\n",
       "  <thead>\n",
       "    <tr style=\"text-align: right;\">\n",
       "      <th></th>\n",
       "      <th>Aerobe</th>\n",
       "      <th>Anaerobe</th>\n",
       "      <th>Facultative</th>\n",
       "    </tr>\n",
       "  </thead>\n",
       "  <tbody>\n",
       "    <tr>\n",
       "      <th>Aerobe</th>\n",
       "      <td>0.903188</td>\n",
       "      <td>0.069565</td>\n",
       "      <td>0.027246</td>\n",
       "    </tr>\n",
       "    <tr>\n",
       "      <th>Anaerobe</th>\n",
       "      <td>0.116473</td>\n",
       "      <td>0.879368</td>\n",
       "      <td>0.004160</td>\n",
       "    </tr>\n",
       "    <tr>\n",
       "      <th>Facultative</th>\n",
       "      <td>0.671395</td>\n",
       "      <td>0.212766</td>\n",
       "      <td>0.115839</td>\n",
       "    </tr>\n",
       "  </tbody>\n",
       "</table>\n",
       "</div>"
      ],
      "text/plain": [
       "               Aerobe  Anaerobe  Facultative\n",
       "Aerobe       0.903188  0.069565     0.027246\n",
       "Anaerobe     0.116473  0.879368     0.004160\n",
       "Facultative  0.671395  0.212766     0.115839"
      ]
     },
     "execution_count": 4,
     "metadata": {},
     "output_type": "execute_result"
    }
   ],
   "source": [
    "C = model.confusion_matrix(cleaned_data[\"X_train\"], cleaned_data[\"y_train\"])\n",
    "C= pd.DataFrame(C,index=model.classifier.classes_,columns=model.classifier.classes_)\n",
    "C.apply(lambda x: x/x.sum(),axis=1)"
   ]
  },
  {
   "cell_type": "code",
   "execution_count": 8,
   "metadata": {},
   "outputs": [],
   "source": [
    "import os\n",
    "import pandas as pd\n",
    "import glob\n",
    "\n",
    "# Define the root directory\n",
    "root_dir = '/Users/joshuagoldford/Documents/work/research_projects/metals_metabolism/data/BlackSea_PRJNA649215/mags_black_sea/'\n",
    "\n",
    "# Get a list of all .faa files under the root directory\n",
    "file_paths = glob.glob(root_dir + '**/*.faa', recursive=True)\n",
    "\n",
    "# Extract the genome ids from the file paths\n",
    "genome_ids = [os.path.basename(os.path.dirname(path)) for path in file_paths]\n",
    "\n",
    "# Convert the data into a pandas dataframe\n",
    "mags = pd.DataFrame({\n",
    "    'Genome_ID': genome_ids,\n",
    "    'File_Path': file_paths\n",
    "})\n",
    "\n",
    "file_mapper = mags.set_index(\"File_Path\")[\"Genome_ID\"].to_dict()\n",
    "\n"
   ]
  },
  {
   "cell_type": "code",
   "execution_count": 10,
   "metadata": {},
   "outputs": [],
   "source": [
    "aa_kmer = count_aa_kmers(mags.File_Path.tolist(),kmer)\n",
    "aa_kmer = aa_kmer.T\n",
    "aa_kmer.index = [file_mapper[x] for x in aa_kmer.index.tolist()]\n",
    "aa_kmer = aa_kmer[cleaned_data[\"column_labels\"]]\n",
    "labels = model.predict(aa_kmer)\n"
   ]
  },
  {
   "cell_type": "code",
   "execution_count": 27,
   "metadata": {},
   "outputs": [],
   "source": [
    "mag_fraction = pd.read_csv(\"/Users/joshuagoldford/Documents/work/research_projects/metals_metabolism/data/blackSea.MAGfraction.04Feb2023.csv\",index_col=0)\n",
    "metadata = pd.read_csv(\"/Users/joshuagoldford/Documents/work/research_projects/metals_metabolism/data/blackSea.metadata.csv\",index_col=0)\n"
   ]
  },
  {
   "cell_type": "code",
   "execution_count": 49,
   "metadata": {},
   "outputs": [],
   "source": [
    "z = pd.DataFrame(labels,index=aa_kmer.index,columns=[\"oxygen\"])\n",
    "z = z.join(mag_fraction).dropna(axis=0).fillna(0)\n",
    "z = z.groupby(\"oxygen\").sum().T\n",
    "df = metadata.join(z)"
   ]
  },
  {
   "cell_type": "code",
   "execution_count": 55,
   "metadata": {},
   "outputs": [
    {
     "data": {
      "text/plain": [
       "<Axes: xlabel='Anaerobe', ylabel='depth_m'>"
      ]
     },
     "execution_count": 55,
     "metadata": {},
     "output_type": "execute_result"
    },
    {
     "data": {
      "image/png": "[encoded data removed]",
      "text/plain": [
       "<Figure size 640x480 with 1 Axes>"
      ]
     },
     "metadata": {},
     "output_type": "display_data"
    }
   ],
   "source": [
    "sns.scatterplot(x=\"Anaerobe\",y=\"depth_m\",data=df)\n",
    "sns.lineplot(x=\"Anaerobe\",y=\"depth_m\",data=df)\n",
    "\n",
    "sns.scatterplot(x=\"Aerobe\",y=\"depth_m\",data=df)\n",
    "sns.lineplot(x=\"Aerobe\",y=\"depth_m\",data=df)\n"
   ]
  },
  {
   "cell_type": "code",
   "execution_count": null,
   "metadata": {},
   "outputs": [],
   "source": []
  }
 ],
 "metadata": {
  "kernelspec": {
   "display_name": "aerobot",
   "language": "python",
   "name": "python3"
  },
  "language_info": {
   "codemirror_mode": {
    "name": "ipython",
    "version": 3
   },
   "file_extension": ".py",
   "mimetype": "text/x-python",
   "name": "python",
   "nbconvert_exporter": "python",
   "pygments_lexer": "ipython3",
   "version": "3.8.17"
  },
  "orig_nbformat": 4
 },
 "nbformat": 4,
 "nbformat_minor": 2
}
