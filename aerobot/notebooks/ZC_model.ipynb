{
 "cells": [
  {
   "cell_type": "code",
   "execution_count": 1,
   "metadata": {},
   "outputs": [],
   "source": [
    "import pandas as pd\n",
    "from aerobot.io import load_training_data, load_validation_data\n",
    "from aerobot.utls import process_data\n",
    "from aerobot.models import LogisticClassifier\n",
    "import seaborn as sns"
   ]
  },
  {
   "cell_type": "markdown",
   "metadata": {},
   "source": [
    "# A model based only on oxidation state features\n",
    "\n",
    "The oxidation state of DSDNA is an analytic function of its GC content. For proteins and RNA, we actually need to calculate these values, so we load a reference table. \n",
    "\n",
    "The code below loads amino acid and DNA sequence content for each genome, calculates the nominal oxidation states of those, and then uses them as features in a 3 class predictor of oxygen utilization. \n",
    "\n",
    "TODO: need to get access to coding sequences to calculate ZC of RNA coding seqs. Josh is on this. "
   ]
  },
  {
   "cell_type": "code",
   "execution_count": 2,
   "metadata": {},
   "outputs": [],
   "source": [
    "CANONICAL_NTS = ['A', 'C', 'G', 'T']\n",
    "GC_NTS = ['G', 'C']\n",
    "\n",
    "def calc_gc(nt1_features_df):\n",
    "    \"\"\"Calculate the GC content of the canonical nucleotides.\n",
    "\n",
    "    Args:\n",
    "        nt1_features_df (pd.DataFrame): A dataframe containing the counts of\n",
    "            single nucleotides.\n",
    "\n",
    "    Returns:\n",
    "        pd.Series: A series containing the GC content of each genome.\n",
    "    \"\"\"\n",
    "    canonical_data = nt1_features_df[CANONICAL_NTS]\n",
    "    gc = canonical_data[GC_NTS].sum(axis=1) / canonical_data.sum(axis=1)\n",
    "    gc.name = 'gc_content'\n",
    "    return gc\n",
    "\n",
    "AA_NOSC_DF = pd.read_csv('aa_nosc.csv', index_col=0)\n",
    "AA_NC = AA_NOSC_DF.NC\n",
    "AA_ZC = AA_NOSC_DF.NOSC\n",
    "CANONICAL_AAS = AA_NOSC_DF.index.tolist()\n",
    "\n",
    "def calc_aa_zc(aa1_features_df):\n",
    "    \"\"\"Calculate the formal C oxidation state.\n",
    "\n",
    "    Args:\n",
    "        aa1_features_df (pd.DataFrame): A dataframe containing the counts of\n",
    "            single amino acids.\n",
    "\n",
    "    Returns:\n",
    "        pd.Series: The formal C oxidation state.\n",
    "    \"\"\"\n",
    "    aas = sorted(set(aa1_features_df.columns).intersection(CANONICAL_AAS))\n",
    "    canonical_data = aa1_features_df[aas]\n",
    "    NC_total = (canonical_data @ AA_NC[aas])\n",
    "    Ne_total = (canonical_data @ (AA_ZC[aas] * AA_NC[aas]))\n",
    "    mean_cds_zc = Ne_total / NC_total\n",
    "    mean_cds_zc.name = 'cds_aa_zc'\n",
    "    return mean_cds_zc"
   ]
  },
  {
   "cell_type": "code",
   "execution_count": 3,
   "metadata": {},
   "outputs": [
    {
     "name": "stdout",
     "output_type": "stream",
     "text": [
      "Loading nt data...\n",
      "Calculating GC content...\n",
      "Loading aa data...\n",
      "Calculating protein ZC...\n",
      "Merging features...\n"
     ]
    }
   ],
   "source": [
    "print(\"Loading nt data...\")\n",
    "\n",
    "feature_type = \"nt_1mer\"\n",
    "training_data_nt = load_training_data(feature_type=feature_type)\n",
    "validation_data_nt = load_validation_data(feature_type=feature_type)\n",
    "\n",
    "print(\"Calculating GC content...\")\n",
    "train_gc = calc_gc(training_data_nt[\"features\"])\n",
    "test_gc = calc_gc(validation_data_nt[\"features\"])\n",
    "\n",
    "print(\"Loading aa data...\")\n",
    "feature_type = 'aa_1mer'\n",
    "training_data_aa = load_training_data(feature_type=feature_type)\n",
    "validation_data_aa = load_validation_data(feature_type=feature_type)\n",
    "\n",
    "print(\"Calculating protein ZC...\")\n",
    "train_aa_zc = calc_aa_zc(training_data_aa[\"features\"])\n",
    "test_aa_zc = calc_aa_zc(validation_data_aa[\"features\"])\n",
    "\n",
    "# aa features have a different index than nt features\n",
    "# need to strip the \"RS_\" from the index labels\n",
    "train_aa_zc.index = train_aa_zc.index.str.strip(\"RS_\")\n",
    "test_aa_zc.index = test_aa_zc.index.str.strip(\"RS_\")\n",
    "\n",
    "print(\"Merging features...\")\n",
    "training_features = pd.merge(train_gc, train_aa_zc, left_index=True, right_index=True)\n",
    "validation_features = pd.merge(test_gc, test_aa_zc, left_index=True, right_index=True)\n",
    "\n",
    "if training_features['gc_content'].size == 0:\n",
    "    print(\"No features found!\")\n",
    "\n",
    "training_data = training_data_aa\n",
    "validation_data = validation_data_aa\n",
    "training_data[\"features\"] = train_aa_zc\n",
    "validation_data[\"features\"] = test_aa_zc\n",
    "\n",
    "cleaned_data = process_data(\n",
    "    training_data[\"features\"], training_data[\"labels\"][\"physiology\"],\n",
    "    validation_data[\"features\"], validation_data[\"labels\"][\"physiology\"])"
   ]
  },
  {
   "cell_type": "code",
   "execution_count": 4,
   "metadata": {},
   "outputs": [
    {
     "name": "stdout",
     "output_type": "stream",
     "text": [
      "Fitting model...\n",
      "Accuracy: 0.6247848537005164\n",
      "Balanced Accuracy: 0.40396950578338586\n",
      "Test Accuracy: 0.5073529411764706\n",
      "Test Balanced Accuracy: 0.4044339498884953\n"
     ]
    },
    {
     "data": {
      "text/html": [
       "<div>\n",
       "<style scoped>\n",
       "    .dataframe tbody tr th:only-of-type {\n",
       "        vertical-align: middle;\n",
       "    }\n",
       "\n",
       "    .dataframe tbody tr th {\n",
       "        vertical-align: top;\n",
       "    }\n",
       "\n",
       "    .dataframe thead th {\n",
       "        text-align: right;\n",
       "    }\n",
       "</style>\n",
       "<table border=\"1\" class=\"dataframe\">\n",
       "  <thead>\n",
       "    <tr style=\"text-align: right;\">\n",
       "      <th></th>\n",
       "      <th>Aerobe</th>\n",
       "      <th>Anaerobe</th>\n",
       "      <th>Facultative</th>\n",
       "    </tr>\n",
       "  </thead>\n",
       "  <tbody>\n",
       "    <tr>\n",
       "      <th>Aerobe</th>\n",
       "      <td>0.275000</td>\n",
       "      <td>0.725000</td>\n",
       "      <td>0.0</td>\n",
       "    </tr>\n",
       "    <tr>\n",
       "      <th>Anaerobe</th>\n",
       "      <td>0.063091</td>\n",
       "      <td>0.936909</td>\n",
       "      <td>0.0</td>\n",
       "    </tr>\n",
       "    <tr>\n",
       "      <th>Facultative</th>\n",
       "      <td>0.250000</td>\n",
       "      <td>0.750000</td>\n",
       "      <td>0.0</td>\n",
       "    </tr>\n",
       "  </tbody>\n",
       "</table>\n",
       "</div>"
      ],
      "text/plain": [
       "               Aerobe  Anaerobe  Facultative\n",
       "Aerobe       0.275000  0.725000          0.0\n",
       "Anaerobe     0.063091  0.936909          0.0\n",
       "Facultative  0.250000  0.750000          0.0"
      ]
     },
     "execution_count": 4,
     "metadata": {},
     "output_type": "execute_result"
    }
   ],
   "source": [
    "print(\"Fitting model...\")\n",
    "model = LogisticClassifier(max_iter=100000, normalize=True, random_state=None)\n",
    "model.fit(cleaned_data[\"X_train\"], cleaned_data[\"y_train\"])\n",
    "accuracy = model.score(cleaned_data[\"X_train\"], cleaned_data[\"y_train\"])\n",
    "balanced_accuracy = model.balanced_accuracy(cleaned_data[\"X_train\"], cleaned_data[\"y_train\"])\n",
    "\n",
    "print(\"Accuracy: \" + str(accuracy))\n",
    "print(\"Balanced Accuracy: \" + str(balanced_accuracy))\n",
    "\n",
    "# compute accuracy and balanced accuracy on test set\n",
    "test_accuracy = model.score(cleaned_data[\"X_test\"], cleaned_data[\"y_test\"])\n",
    "test_balanced_accuracy = model.balanced_accuracy(cleaned_data[\"X_test\"], cleaned_data[\"y_test\"])\n",
    "print(\"Test Accuracy: \" + str(test_accuracy))\n",
    "print(\"Test Balanced Accuracy: \" + str(test_balanced_accuracy))\n",
    "\n",
    "C = model.confusion_matrix(cleaned_data[\"X_train\"], cleaned_data[\"y_train\"])\n",
    "C = pd.DataFrame(C,index=model.classifier.classes_, columns=model.classifier.classes_)\n",
    "C.apply(lambda x: x/x.sum(),axis=1)\n"
   ]
  },
  {
   "cell_type": "code",
   "execution_count": null,
   "metadata": {},
   "outputs": [],
   "source": []
  }
 ],
 "metadata": {
  "kernelspec": {
   "display_name": "aerobot",
   "language": "python",
   "name": "python3"
  },
  "language_info": {
   "codemirror_mode": {
    "name": "ipython",
    "version": 3
   },
   "file_extension": ".py",
   "mimetype": "text/x-python",
   "name": "python",
   "nbconvert_exporter": "python",
   "pygments_lexer": "ipython3",
   "version": "3.8.5"
  },
  "orig_nbformat": 4
 },
 "nbformat": 4,
 "nbformat_minor": 2
}
