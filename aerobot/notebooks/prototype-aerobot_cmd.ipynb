{
 "cells": [
  {
   "cell_type": "code",
   "execution_count": 1,
   "metadata": {},
   "outputs": [],
   "source": [
    "import pandas as pd\n",
    "from aerobot.io import load_training_data, load_validation_data\n",
    "from aerobot.utls import process_data, count_kmers\n",
    "from sklearn.linear_model import LogisticRegression\n",
    "from aerobot.models import GeneralClassifier"
   ]
  },
  {
   "cell_type": "code",
   "execution_count": 32,
   "metadata": {},
   "outputs": [],
   "source": [
    "from aerobot.utls import count_kmers"
   ]
  },
  {
   "cell_type": "code",
   "execution_count": 28,
   "metadata": {},
   "outputs": [],
   "source": [
    "\n",
    "\n",
    "feature_type = \"aa_3mer\"\n",
    "training_data = load_training_data(feature_type=feature_type)\n",
    "validation_data = load_validation_data(feature_type=feature_type)\n",
    "cleaned_data = process_data(training_data[\"features\"], training_data[\"labels\"][\"physiology\"], validation_data[\"features\"], validation_data[\"labels\"][\"physiology\"])\n",
    "\n"
   ]
  },
  {
   "cell_type": "code",
   "execution_count": 36,
   "metadata": {},
   "outputs": [
    {
     "data": {
      "text/plain": [
       "['X_train',\n",
       " 'y_train',\n",
       " 'X_test',\n",
       " 'y_test',\n",
       " 'train_row_labels',\n",
       " 'test_row_labels',\n",
       " 'column_labels']"
      ]
     },
     "execution_count": 36,
     "metadata": {},
     "output_type": "execute_result"
    }
   ],
   "source": [
    "list(cleaned_data)"
   ]
  },
  {
   "cell_type": "code",
   "execution_count": 57,
   "metadata": {},
   "outputs": [],
   "source": [
    "cleaned_data[\"column_labels\"]\n",
    "\n",
    "# Function to save the list to a text file\n",
    "def save_list_to_file(list_to_save, filename):\n",
    "    with open(filename, 'w') as file:\n",
    "        for item in list_to_save:\n",
    "            file.write(\"%s\\n\" % item)\n",
    "\n",
    "save_list_to_file(cleaned_data[\"column_labels\"],\"../assets/trained_models/vocab.txt\")            "
   ]
  },
  {
   "cell_type": "code",
   "execution_count": 10,
   "metadata": {},
   "outputs": [],
   "source": [
    "accuracies = pd.read_pickle(\"../../results/logisticReg_l2_c100_models.noNorm.04Oct2023.pkl\")\n"
   ]
  },
  {
   "cell_type": "code",
   "execution_count": 14,
   "metadata": {},
   "outputs": [],
   "source": [
    "model = accuracies.loc[10].model"
   ]
  },
  {
   "cell_type": "code",
   "execution_count": 15,
   "metadata": {},
   "outputs": [
    {
     "data": {
      "text/plain": [
       "<aerobot.models.GeneralClassifier at 0x7f7a332b9c40>"
      ]
     },
     "execution_count": 15,
     "metadata": {},
     "output_type": "execute_result"
    }
   ],
   "source": []
  },
  {
   "cell_type": "code",
   "execution_count": 20,
   "metadata": {},
   "outputs": [],
   "source": [
    "classifier = GeneralClassifier(model_class=LogisticRegression)"
   ]
  },
  {
   "cell_type": "code",
   "execution_count": 21,
   "metadata": {},
   "outputs": [],
   "source": [
    "model.save(filename=\"../assets/trained_models/lr_aa3mer.mdl\")"
   ]
  },
  {
   "cell_type": "code",
   "execution_count": 62,
   "metadata": {},
   "outputs": [
    {
     "data": {
      "text/plain": [
       "0       TTA\n",
       "1       TAT\n",
       "2       ATG\n",
       "3       TGG\n",
       "4       GGT\n",
       "       ... \n",
       "8670    EXW\n",
       "8671    XCT\n",
       "8672    XCE\n",
       "8673    WXH\n",
       "8674    XHM\n",
       "Name: 0, Length: 8675, dtype: object"
      ]
     },
     "execution_count": 62,
     "metadata": {},
     "output_type": "execute_result"
    }
   ],
   "source": [
    "vocab"
   ]
  },
  {
   "cell_type": "code",
   "execution_count": 70,
   "metadata": {},
   "outputs": [],
   "source": [
    "classifier = GeneralClassifier(model_class=LogisticRegression)\n",
    "classifier = classifier.load(filename=\"../assets/trained_models/aa3mer/model.bin\")\n",
    "vocab = pd.read_csv(\"../assets/trained_models/aa3mer/vocab.txt\",header=None)[0].tolist()\n",
    "feature_vocab = pd.DataFrame(vocab,columns=[\"Vocab\"])\n",
    "kmers = count_kmers([\"../assets/example_data/eco.fa\"],3)\n",
    "feature_matrix = feature_vocab.set_index(\"Vocab\").join(kmers).fillna(0).loc[vocab]\n",
    "predictions = classifier.predict(feature_matrix.T.values)\n",
    "FileNames = [x.split(\"/\")[-1] for x in feature_matrix]\n",
    "FilePaths = list(feature_matrix)\n",
    "results = pd.DataFrame({\"FileNames\":FileNames,\"FilePaths\":FilePaths,\"Predictions\":predictions})\n",
    "\n"
   ]
  },
  {
   "cell_type": "code",
   "execution_count": 71,
   "metadata": {},
   "outputs": [
    {
     "data": {
      "text/html": [
       "<div>\n",
       "<style scoped>\n",
       "    .dataframe tbody tr th:only-of-type {\n",
       "        vertical-align: middle;\n",
       "    }\n",
       "\n",
       "    .dataframe tbody tr th {\n",
       "        vertical-align: top;\n",
       "    }\n",
       "\n",
       "    .dataframe thead th {\n",
       "        text-align: right;\n",
       "    }\n",
       "</style>\n",
       "<table border=\"1\" class=\"dataframe\">\n",
       "  <thead>\n",
       "    <tr style=\"text-align: right;\">\n",
       "      <th></th>\n",
       "      <th>FileNames</th>\n",
       "      <th>FilePaths</th>\n",
       "      <th>Predictions</th>\n",
       "    </tr>\n",
       "  </thead>\n",
       "  <tbody>\n",
       "    <tr>\n",
       "      <th>0</th>\n",
       "      <td>eco.fa</td>\n",
       "      <td>../assets/example_data/eco.fa</td>\n",
       "      <td>Facultative</td>\n",
       "    </tr>\n",
       "  </tbody>\n",
       "</table>\n",
       "</div>"
      ],
      "text/plain": [
       "  FileNames                      FilePaths  Predictions\n",
       "0    eco.fa  ../assets/example_data/eco.fa  Facultative"
      ]
     },
     "execution_count": 71,
     "metadata": {},
     "output_type": "execute_result"
    }
   ],
   "source": [
    "results"
   ]
  },
  {
   "cell_type": "code",
   "execution_count": 25,
   "metadata": {},
   "outputs": [
    {
     "data": {
      "text/plain": [
       "<aerobot.models.GeneralClassifier at 0x7f7a2f460af0>"
      ]
     },
     "execution_count": 25,
     "metadata": {},
     "output_type": "execute_result"
    }
   ],
   "source": [
    "# featurizer\n",
    "kmers = count_kmers([\"../assets/example_data/eco.fa\"],3)\n",
    "\n"
   ]
  },
  {
   "cell_type": "code",
   "execution_count": 26,
   "metadata": {},
   "outputs": [
    {
     "data": {
      "text/plain": [
       "<aerobot.models.GeneralClassifier at 0x7f7a332b9c40>"
      ]
     },
     "execution_count": 26,
     "metadata": {},
     "output_type": "execute_result"
    }
   ],
   "source": [
    "model"
   ]
  },
  {
   "cell_type": "code",
   "execution_count": 34,
   "metadata": {},
   "outputs": [],
   "source": [
    "kmers = count_kmers([\"../assets/example_data/eco.fa\"],3)"
   ]
  },
  {
   "cell_type": "code",
   "execution_count": 38,
   "metadata": {},
   "outputs": [
    {
     "data": {
      "text/plain": [
       "8675"
      ]
     },
     "execution_count": 38,
     "metadata": {},
     "output_type": "execute_result"
    }
   ],
   "source": [
    "len(cleaned_data[\"column_labels\"])"
   ]
  },
  {
   "cell_type": "code",
   "execution_count": 41,
   "metadata": {},
   "outputs": [],
   "source": [
    "feature_vocab = pd.DataFrame(cleaned_data[\"column_labels\"],columns=[\"Vocab\"])"
   ]
  },
  {
   "cell_type": "code",
   "execution_count": 48,
   "metadata": {},
   "outputs": [],
   "source": [
    "feature_matrix = feature_vocab.set_index(\"Vocab\").join(kmers).fillna(0).loc[feature_vocab[\"Vocab\"].tolist()]"
   ]
  },
  {
   "cell_type": "code",
   "execution_count": 55,
   "metadata": {},
   "outputs": [
    {
     "data": {
      "text/plain": [
       "array(['Facultative'], dtype=object)"
      ]
     },
     "execution_count": 55,
     "metadata": {},
     "output_type": "execute_result"
    }
   ],
   "source": [
    "X = feature_matrix.T.values\n",
    "classifier.predict(X)"
   ]
  },
  {
   "cell_type": "code",
   "execution_count": null,
   "metadata": {},
   "outputs": [],
   "source": []
  }
 ],
 "metadata": {
  "kernelspec": {
   "display_name": "aerobot",
   "language": "python",
   "name": "python3"
  },
  "language_info": {
   "codemirror_mode": {
    "name": "ipython",
    "version": 3
   },
   "file_extension": ".py",
   "mimetype": "text/x-python",
   "name": "python",
   "nbconvert_exporter": "python",
   "pygments_lexer": "ipython3",
   "version": "3.8.17"
  },
  "orig_nbformat": 4
 },
 "nbformat": 4,
 "nbformat_minor": 2
}
