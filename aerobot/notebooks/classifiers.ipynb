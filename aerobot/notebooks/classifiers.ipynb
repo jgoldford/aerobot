{
 "cells": [
  {
   "cell_type": "code",
   "execution_count": 7,
   "metadata": {},
   "outputs": [
    {
     "name": "stdout",
     "output_type": "stream",
     "text": [
      "The autoreload extension is already loaded. To reload it, use:\n",
      "  %reload_ext autoreload\n"
     ]
    }
   ],
   "source": [
    "from aerobot.dataset import dataset_load_all\n",
    "from aerobot.utils import print_taxonomy_info\n",
    "from aerobot.io import FEATURE_SUBTYPES, FEATURE_TYPES\n",
    "import numpy as np \n",
    "import os\n",
    "import pandas as pd \n",
    "import subprocess\n",
    "\n",
    "%load_ext autoreload\n",
    "%autoreload 2"
   ]
  },
  {
   "cell_type": "markdown",
   "metadata": {},
   "source": [
    "# Classifiers\n",
    "\n",
    "Code for evaluating the performance of `Nonlinear` and `LogisticRegression`-based ternary classifiers on various feature sets."
   ]
  },
  {
   "cell_type": "code",
   "execution_count": null,
   "metadata": {},
   "outputs": [],
   "source": [
    "SCRIPTS_PATH = '/home/prichter/Documents/aerobot/aerobot/scripts/'\n",
    "feature_types = [''] # Minimal list of feature types."
   ]
  },
  {
   "cell_type": "code",
   "execution_count": null,
   "metadata": {},
   "outputs": [],
   "source": [
    "# First, train and evaluate nonlinear models for each feature type with the default parameters.\n",
    "model_class = 'nonlinear'\n",
    "for feature_type in feature_types:\n",
    "    cmd = f'{SCRIPT_PATH}'"
   ]
  }
 ],
 "metadata": {
  "kernelspec": {
   "display_name": "aerobot",
   "language": "python",
   "name": "python3"
  },
  "language_info": {
   "codemirror_mode": {
    "name": "ipython",
    "version": 3
   },
   "file_extension": ".py",
   "mimetype": "text/x-python",
   "name": "python",
   "nbconvert_exporter": "python",
   "pygments_lexer": "ipython3",
   "version": "3.11.8"
  }
 },
 "nbformat": 4,
 "nbformat_minor": 2
}
