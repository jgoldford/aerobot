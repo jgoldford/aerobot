{
 "cells": [
  {
   "cell_type": "code",
   "execution_count": 1,
   "metadata": {},
   "outputs": [],
   "source": [
    "import pandas as pd\n",
    "from aerobot.io import load_training_data, load_validation_data\n",
    "from aerobot.utls import process_data\n",
    "from aerobot.models import LogisticClassifier, GeneralClassifier\n",
    "import seaborn as sns"
   ]
  },
  {
   "cell_type": "markdown",
   "metadata": {},
   "source": [
    "# A model based only on chemical features of the genome \n",
    "\n",
    "The oxidation state of DSDNA is an analytic function of its GC content. For proteins and RNA, we actually need to calculate these values, so we load a reference table. \n",
    "\n",
    "The code below loads amino acid and DNA sequence content for each genome, calculates the nominal oxidation states of those, and then uses them as features in a 3 class predictor of oxygen utilization. \n",
    "\n",
    "TODO: need to get access to coding sequences to calculate ZC of RNA coding seqs. Josh is on this. "
   ]
  },
  {
   "cell_type": "code",
   "execution_count": 12,
   "metadata": {},
   "outputs": [],
   "source": [
    "training_data = load_training_data(feature_type='chemical')\n",
    "validation_data = load_validation_data(feature_type='chemical')"
   ]
  },
  {
   "cell_type": "code",
   "execution_count": 13,
   "metadata": {},
   "outputs": [],
   "source": [
    "# Prepare data for classification\n",
    "cleaned_data = process_data(\n",
    "    training_data[\"features\"], training_data[\"labels\"][\"physiology\"],\n",
    "    validation_data[\"features\"], validation_data[\"labels\"][\"physiology\"])"
   ]
  },
  {
   "cell_type": "code",
   "execution_count": 14,
   "metadata": {},
   "outputs": [
    {
     "name": "stdout",
     "output_type": "stream",
     "text": [
      "Fitting model...\n",
      "Accuracy: 0.7656716417910447\n",
      "Balanced Accuracy: 0.5826862710457275\n",
      "Test Accuracy: 0.6183206106870229\n",
      "Test Balanced Accuracy: 0.5401324029343353\n"
     ]
    },
    {
     "data": {
      "text/html": [
       "<div>\n",
       "<style scoped>\n",
       "    .dataframe tbody tr th:only-of-type {\n",
       "        vertical-align: middle;\n",
       "    }\n",
       "\n",
       "    .dataframe tbody tr th {\n",
       "        vertical-align: top;\n",
       "    }\n",
       "\n",
       "    .dataframe thead th {\n",
       "        text-align: right;\n",
       "    }\n",
       "</style>\n",
       "<table border=\"1\" class=\"dataframe\">\n",
       "  <thead>\n",
       "    <tr style=\"text-align: right;\">\n",
       "      <th></th>\n",
       "      <th>Aerobe</th>\n",
       "      <th>Anaerobe</th>\n",
       "      <th>Facultative</th>\n",
       "    </tr>\n",
       "  </thead>\n",
       "  <tbody>\n",
       "    <tr>\n",
       "      <th>Aerobe</th>\n",
       "      <td>0.716049</td>\n",
       "      <td>0.271605</td>\n",
       "      <td>0.012346</td>\n",
       "    </tr>\n",
       "    <tr>\n",
       "      <th>Anaerobe</th>\n",
       "      <td>0.095652</td>\n",
       "      <td>0.904348</td>\n",
       "      <td>0.000000</td>\n",
       "    </tr>\n",
       "    <tr>\n",
       "      <th>Facultative</th>\n",
       "      <td>0.575758</td>\n",
       "      <td>0.424242</td>\n",
       "      <td>0.000000</td>\n",
       "    </tr>\n",
       "  </tbody>\n",
       "</table>\n",
       "</div>"
      ],
      "text/plain": [
       "               Aerobe  Anaerobe  Facultative\n",
       "Aerobe       0.716049  0.271605     0.012346\n",
       "Anaerobe     0.095652  0.904348     0.000000\n",
       "Facultative  0.575758  0.424242     0.000000"
      ]
     },
     "execution_count": 14,
     "metadata": {},
     "output_type": "execute_result"
    }
   ],
   "source": [
    "print(\"Fitting model...\")\n",
    "model = LogisticClassifier(max_iter=100000, normalize=True, random_state=None)\n",
    "model.fit(cleaned_data[\"X_train\"], cleaned_data[\"y_train\"])\n",
    "accuracy = model.score(cleaned_data[\"X_train\"], cleaned_data[\"y_train\"])\n",
    "balanced_accuracy = model.balanced_accuracy(cleaned_data[\"X_train\"], cleaned_data[\"y_train\"])\n",
    "\n",
    "print(\"Accuracy: \" + str(accuracy))\n",
    "print(\"Balanced Accuracy: \" + str(balanced_accuracy))\n",
    "\n",
    "# compute accuracy and balanced accuracy on test set\n",
    "test_accuracy = model.score(cleaned_data[\"X_test\"], cleaned_data[\"y_test\"])\n",
    "test_balanced_accuracy = model.balanced_accuracy(cleaned_data[\"X_test\"], cleaned_data[\"y_test\"])\n",
    "print(\"Test Accuracy: \" + str(test_accuracy))\n",
    "print(\"Test Balanced Accuracy: \" + str(test_balanced_accuracy))\n",
    "\n",
    "C = model.confusion_matrix(cleaned_data[\"X_test\"], cleaned_data[\"y_test\"])\n",
    "C = pd.DataFrame(C,index=model.classifier.classes_, columns=model.classifier.classes_)\n",
    "C.apply(lambda x: x/x.sum(), axis=1)\n"
   ]
  },
  {
   "cell_type": "code",
   "execution_count": 15,
   "metadata": {},
   "outputs": [
    {
     "name": "stdout",
     "output_type": "stream",
     "text": [
      "Fitting two-class model...\n",
      "Accuracy: 0.8597014925373134\n",
      "Balanced Accuracy: 0.8427810415291708\n",
      "Test Accuracy: 0.7595419847328244\n",
      "Test Balanced Accuracy: 0.7629991126885537\n"
     ]
    },
    {
     "data": {
      "text/html": [
       "<div>\n",
       "<style scoped>\n",
       "    .dataframe tbody tr th:only-of-type {\n",
       "        vertical-align: middle;\n",
       "    }\n",
       "\n",
       "    .dataframe tbody tr th {\n",
       "        vertical-align: top;\n",
       "    }\n",
       "\n",
       "    .dataframe thead th {\n",
       "        text-align: right;\n",
       "    }\n",
       "</style>\n",
       "<table border=\"1\" class=\"dataframe\">\n",
       "  <thead>\n",
       "    <tr style=\"text-align: right;\">\n",
       "      <th></th>\n",
       "      <th>Aerobe</th>\n",
       "      <th>Anaerobe</th>\n",
       "    </tr>\n",
       "  </thead>\n",
       "  <tbody>\n",
       "    <tr>\n",
       "      <th>Aerobe</th>\n",
       "      <td>0.734694</td>\n",
       "      <td>0.265306</td>\n",
       "    </tr>\n",
       "    <tr>\n",
       "      <th>Anaerobe</th>\n",
       "      <td>0.208696</td>\n",
       "      <td>0.791304</td>\n",
       "    </tr>\n",
       "  </tbody>\n",
       "</table>\n",
       "</div>"
      ],
      "text/plain": [
       "            Aerobe  Anaerobe\n",
       "Aerobe    0.734694  0.265306\n",
       "Anaerobe  0.208696  0.791304"
      ]
     },
     "execution_count": 15,
     "metadata": {},
     "output_type": "execute_result"
    }
   ],
   "source": [
    "# Make it a two-class thing and run again\n",
    "training_data[\"labels\"][\"physiology\"] = training_data[\"labels\"][\"physiology\"].replace(\"Facultative\", \"Aerobe\")\n",
    "validation_data[\"labels\"][\"physiology\"] = validation_data[\"labels\"][\"physiology\"].replace(\"Facultative\", \"Aerobe\")\n",
    "\n",
    "cleaned_data = process_data(\n",
    "    training_data[\"features\"], training_data[\"labels\"][\"physiology\"],\n",
    "    validation_data[\"features\"], validation_data[\"labels\"][\"physiology\"])\n",
    "\n",
    "\n",
    "print(\"Fitting two-class model...\")\n",
    "model = LogisticClassifier(max_iter=100000, normalize=True, random_state=None)\n",
    "model.fit(cleaned_data[\"X_train\"], cleaned_data[\"y_train\"])\n",
    "accuracy = model.score(cleaned_data[\"X_train\"], cleaned_data[\"y_train\"])\n",
    "balanced_accuracy = model.balanced_accuracy(cleaned_data[\"X_train\"], cleaned_data[\"y_train\"])\n",
    "\n",
    "print(\"Accuracy: \" + str(accuracy))\n",
    "print(\"Balanced Accuracy: \" + str(balanced_accuracy))\n",
    "\n",
    "# compute accuracy and balanced accuracy on test set\n",
    "test_accuracy = model.score(cleaned_data[\"X_test\"], cleaned_data[\"y_test\"])\n",
    "test_balanced_accuracy = model.balanced_accuracy(cleaned_data[\"X_test\"], cleaned_data[\"y_test\"])\n",
    "print(\"Test Accuracy: \" + str(test_accuracy))\n",
    "print(\"Test Balanced Accuracy: \" + str(test_balanced_accuracy))\n",
    "\n",
    "C = model.confusion_matrix(cleaned_data[\"X_test\"], cleaned_data[\"y_test\"])\n",
    "C = pd.DataFrame(C,index=model.classifier.classes_, columns=model.classifier.classes_)\n",
    "C.apply(lambda x: x/x.sum(), axis=1)"
   ]
  },
  {
   "cell_type": "code",
   "execution_count": null,
   "metadata": {},
   "outputs": [],
   "source": []
  }
 ],
 "metadata": {
  "kernelspec": {
   "display_name": "aerobot",
   "language": "python",
   "name": "python3"
  },
  "language_info": {
   "codemirror_mode": {
    "name": "ipython",
    "version": 3
   },
   "file_extension": ".py",
   "mimetype": "text/x-python",
   "name": "python",
   "nbconvert_exporter": "python",
   "pygments_lexer": "ipython3",
   "version": "3.8.5"
  },
  "orig_nbformat": 4
 },
 "nbformat": 4,
 "nbformat_minor": 2
}
